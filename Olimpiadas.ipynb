{
  "nbformat": 4,
  "nbformat_minor": 0,
  "metadata": {
    "colab": {
      "provenance": [],
      "toc_visible": true
    },
    "kernelspec": {
      "name": "python3",
      "display_name": "Python 3"
    },
    "language_info": {
      "name": "python"
    }
  },
  "cells": [
    {
      "cell_type": "markdown",
      "source": [
        "# **Olimpíadas**\n",
        "\n",
        "## Descrição\n",
        "Este trabalho visa construir um pipeline que irá envolver a busca, coleta e análise de dados com foco em visualização dos dados.\n",
        "\n",
        "## Objetivo\n",
        "Analisar os dados coletados a fim de conseguir insights.\n",
        "Não há um objetivo inicial de criação de um modelo de Machine Learning.\n",
        "\n",
        "## Plataforma\n",
        "Irei utilizar o google colab para apresentar as etapas de coleta e análise de dados.\n",
        "\n"
      ],
      "metadata": {
        "id": "xbuFTvZmWarV"
      }
    },
    {
      "cell_type": "markdown",
      "source": [
        "#  1 - Busca pelos dados / Coleta\n",
        "\n",
        "Optei por coletar dados do Kaggle, plataforma que já utilizei como base para coleta dos dados do módulo anterior.\n",
        "Estou usando como base os dados fornecidos por este dataset:\n",
        "https://www.kaggle.com/datasets/heesoo37/120-years-of-olympic-history-athletes-and-results/data\n",
        "\n",
        "Segundo a descrição desse dataset, os dados foram coletados do site www.sports-reference.com em Maio de 2018 e apresentam os dados históricos das olimpíadas de Atenas em 1896 até Rio de Janeiro em 2016.\n",
        "\n",
        "## Dados\n",
        "\n",
        "Os dados foram coletados do Kaggle e disponibilizados no GitHub para facilitar a interação com os dados. Os dados possuem licença CC0: Public Domain, podendo assim ser disponibilizados dessa forma.\n",
        "\n",
        "\n",
        "\n",
        "*   **athlete_events.csv**\n",
        "\n",
        "\n",
        "1. ID - Número identificador unico de cada atleta\n",
        "2. Name - Nome do Atleta\n",
        "3. Sex - Masculino ou Feminino (M ou F)\n",
        "4. Age - Idade do atleta\n",
        "5. Height - Altura do atleta em centimetros\n",
        "6. Weight - Peso do atleta em quilos\n",
        "7. Team - Nome do Time, sendo na grande maioria o nome do país\n",
        "8. NOC - \"National Olympic Committee\" Código de 3 letras referente ao país\n",
        "9. Games - Ano dos jogos seguido de verão ou inverno (Summer/Winter)\n",
        "10. Year - Ano dos jogos\n",
        "11. Season - Verão ou inverno (Summer/Winter)\n",
        "12. City - Cidade que foi sede dos jogos\n",
        "13. Sport - Esporte\n",
        "14. Event - Descrição com mais detalhes do esporte\n",
        "15. Medal - Descreve qual medalha foi ganha (Gold/Silver/Bronze), sendo NA em caso de nenhuma\n",
        "\n",
        "*   **noc_regions.csv**\n",
        "\n",
        "1. NOC - \"National Olympic Committee\" Código de 3 letras referente ao país\n",
        "2. Region - Possui o nome do país, com algumas exceções\n",
        "3. Notes - Alguns detalhes para os casos atípicos"
      ],
      "metadata": {
        "id": "oq6tiLwggML3"
      }
    },
    {
      "cell_type": "code",
      "source": [
        "# Imports necessários\n",
        "import pandas as pd\n",
        "import numpy as np\n",
        "import matplotlib.pyplot as plt\n",
        "import seaborn as sns\n",
        "!pip install sqlalchemy -q\n",
        "from sqlalchemy import create_engine, text\n",
        "import warnings\n",
        "from matplotlib.cbook import MatplotlibDeprecationWarning\n",
        "warnings.filterwarnings(\"ignore\", category=MatplotlibDeprecationWarning)"
      ],
      "metadata": {
        "id": "S9uE-ckZbKPr"
      },
      "execution_count": 79,
      "outputs": []
    },
    {
      "cell_type": "code",
      "source": [
        "# Coleta dos dados\n",
        "df = pd.read_csv('https://raw.githubusercontent.com/ThiagoKoscak/PUCRJ-M2/main/athlete_events.csv')\n",
        "df_noc = pd.read_csv('https://raw.githubusercontent.com/ThiagoKoscak/PUCRJ-M2/main/noc_regions.csv')\n",
        "\n",
        "# Convertendo o csv para Parquet a fim de melhorar a leitura\n",
        "df.to_parquet('athlete_events.parquet')\n",
        "df = pd.read_parquet('athlete_events.parquet')\n",
        "\n",
        "df_noc = df_noc.to_parquet('noc_regions.parquet')\n",
        "df_noc = pd.read_parquet('noc_regions.parquet')"
      ],
      "metadata": {
        "id": "7_iTGF_GbM9y"
      },
      "execution_count": 80,
      "outputs": []
    },
    {
      "cell_type": "code",
      "source": [
        "display(df)"
      ],
      "metadata": {
        "id": "EzapxfpRbqMe",
        "colab": {
          "base_uri": "https://localhost:8080/",
          "height": 424
        },
        "outputId": "b6e233af-17e2-409a-b1ca-e9316ab34b05"
      },
      "execution_count": 81,
      "outputs": [
        {
          "output_type": "display_data",
          "data": {
            "text/plain": [
              "            ID                      Name Sex   Age  Height  Weight  \\\n",
              "0            1                 A Dijiang   M  24.0   180.0    80.0   \n",
              "1            2                  A Lamusi   M  23.0   170.0    60.0   \n",
              "2            3       Gunnar Nielsen Aaby   M  24.0     NaN     NaN   \n",
              "3            4      Edgar Lindenau Aabye   M  34.0     NaN     NaN   \n",
              "4            5  Christine Jacoba Aaftink   F  21.0   185.0    82.0   \n",
              "...        ...                       ...  ..   ...     ...     ...   \n",
              "271111  135569                Andrzej ya   M  29.0   179.0    89.0   \n",
              "271112  135570                  Piotr ya   M  27.0   176.0    59.0   \n",
              "271113  135570                  Piotr ya   M  27.0   176.0    59.0   \n",
              "271114  135571        Tomasz Ireneusz ya   M  30.0   185.0    96.0   \n",
              "271115  135571        Tomasz Ireneusz ya   M  34.0   185.0    96.0   \n",
              "\n",
              "                  Team  NOC        Games  Year  Season            City  \\\n",
              "0                China  CHN  1992 Summer  1992  Summer       Barcelona   \n",
              "1                China  CHN  2012 Summer  2012  Summer          London   \n",
              "2              Denmark  DEN  1920 Summer  1920  Summer       Antwerpen   \n",
              "3       Denmark/Sweden  DEN  1900 Summer  1900  Summer           Paris   \n",
              "4          Netherlands  NED  1988 Winter  1988  Winter         Calgary   \n",
              "...                ...  ...          ...   ...     ...             ...   \n",
              "271111        Poland-1  POL  1976 Winter  1976  Winter       Innsbruck   \n",
              "271112          Poland  POL  2014 Winter  2014  Winter           Sochi   \n",
              "271113          Poland  POL  2014 Winter  2014  Winter           Sochi   \n",
              "271114          Poland  POL  1998 Winter  1998  Winter          Nagano   \n",
              "271115          Poland  POL  2002 Winter  2002  Winter  Salt Lake City   \n",
              "\n",
              "                Sport                                     Event Medal  \n",
              "0          Basketball               Basketball Men's Basketball  None  \n",
              "1                Judo              Judo Men's Extra-Lightweight  None  \n",
              "2            Football                   Football Men's Football  None  \n",
              "3          Tug-Of-War               Tug-Of-War Men's Tug-Of-War  Gold  \n",
              "4       Speed Skating          Speed Skating Women's 500 metres  None  \n",
              "...               ...                                       ...   ...  \n",
              "271111           Luge                Luge Mixed (Men)'s Doubles  None  \n",
              "271112    Ski Jumping  Ski Jumping Men's Large Hill, Individual  None  \n",
              "271113    Ski Jumping        Ski Jumping Men's Large Hill, Team  None  \n",
              "271114      Bobsleigh                      Bobsleigh Men's Four  None  \n",
              "271115      Bobsleigh                      Bobsleigh Men's Four  None  \n",
              "\n",
              "[271116 rows x 15 columns]"
            ],
            "text/html": [
              "\n",
              "  <div id=\"df-3ba32124-5ae8-4a43-93fe-bf603f9ed360\" class=\"colab-df-container\">\n",
              "    <div>\n",
              "<style scoped>\n",
              "    .dataframe tbody tr th:only-of-type {\n",
              "        vertical-align: middle;\n",
              "    }\n",
              "\n",
              "    .dataframe tbody tr th {\n",
              "        vertical-align: top;\n",
              "    }\n",
              "\n",
              "    .dataframe thead th {\n",
              "        text-align: right;\n",
              "    }\n",
              "</style>\n",
              "<table border=\"1\" class=\"dataframe\">\n",
              "  <thead>\n",
              "    <tr style=\"text-align: right;\">\n",
              "      <th></th>\n",
              "      <th>ID</th>\n",
              "      <th>Name</th>\n",
              "      <th>Sex</th>\n",
              "      <th>Age</th>\n",
              "      <th>Height</th>\n",
              "      <th>Weight</th>\n",
              "      <th>Team</th>\n",
              "      <th>NOC</th>\n",
              "      <th>Games</th>\n",
              "      <th>Year</th>\n",
              "      <th>Season</th>\n",
              "      <th>City</th>\n",
              "      <th>Sport</th>\n",
              "      <th>Event</th>\n",
              "      <th>Medal</th>\n",
              "    </tr>\n",
              "  </thead>\n",
              "  <tbody>\n",
              "    <tr>\n",
              "      <th>0</th>\n",
              "      <td>1</td>\n",
              "      <td>A Dijiang</td>\n",
              "      <td>M</td>\n",
              "      <td>24.0</td>\n",
              "      <td>180.0</td>\n",
              "      <td>80.0</td>\n",
              "      <td>China</td>\n",
              "      <td>CHN</td>\n",
              "      <td>1992 Summer</td>\n",
              "      <td>1992</td>\n",
              "      <td>Summer</td>\n",
              "      <td>Barcelona</td>\n",
              "      <td>Basketball</td>\n",
              "      <td>Basketball Men's Basketball</td>\n",
              "      <td>None</td>\n",
              "    </tr>\n",
              "    <tr>\n",
              "      <th>1</th>\n",
              "      <td>2</td>\n",
              "      <td>A Lamusi</td>\n",
              "      <td>M</td>\n",
              "      <td>23.0</td>\n",
              "      <td>170.0</td>\n",
              "      <td>60.0</td>\n",
              "      <td>China</td>\n",
              "      <td>CHN</td>\n",
              "      <td>2012 Summer</td>\n",
              "      <td>2012</td>\n",
              "      <td>Summer</td>\n",
              "      <td>London</td>\n",
              "      <td>Judo</td>\n",
              "      <td>Judo Men's Extra-Lightweight</td>\n",
              "      <td>None</td>\n",
              "    </tr>\n",
              "    <tr>\n",
              "      <th>2</th>\n",
              "      <td>3</td>\n",
              "      <td>Gunnar Nielsen Aaby</td>\n",
              "      <td>M</td>\n",
              "      <td>24.0</td>\n",
              "      <td>NaN</td>\n",
              "      <td>NaN</td>\n",
              "      <td>Denmark</td>\n",
              "      <td>DEN</td>\n",
              "      <td>1920 Summer</td>\n",
              "      <td>1920</td>\n",
              "      <td>Summer</td>\n",
              "      <td>Antwerpen</td>\n",
              "      <td>Football</td>\n",
              "      <td>Football Men's Football</td>\n",
              "      <td>None</td>\n",
              "    </tr>\n",
              "    <tr>\n",
              "      <th>3</th>\n",
              "      <td>4</td>\n",
              "      <td>Edgar Lindenau Aabye</td>\n",
              "      <td>M</td>\n",
              "      <td>34.0</td>\n",
              "      <td>NaN</td>\n",
              "      <td>NaN</td>\n",
              "      <td>Denmark/Sweden</td>\n",
              "      <td>DEN</td>\n",
              "      <td>1900 Summer</td>\n",
              "      <td>1900</td>\n",
              "      <td>Summer</td>\n",
              "      <td>Paris</td>\n",
              "      <td>Tug-Of-War</td>\n",
              "      <td>Tug-Of-War Men's Tug-Of-War</td>\n",
              "      <td>Gold</td>\n",
              "    </tr>\n",
              "    <tr>\n",
              "      <th>4</th>\n",
              "      <td>5</td>\n",
              "      <td>Christine Jacoba Aaftink</td>\n",
              "      <td>F</td>\n",
              "      <td>21.0</td>\n",
              "      <td>185.0</td>\n",
              "      <td>82.0</td>\n",
              "      <td>Netherlands</td>\n",
              "      <td>NED</td>\n",
              "      <td>1988 Winter</td>\n",
              "      <td>1988</td>\n",
              "      <td>Winter</td>\n",
              "      <td>Calgary</td>\n",
              "      <td>Speed Skating</td>\n",
              "      <td>Speed Skating Women's 500 metres</td>\n",
              "      <td>None</td>\n",
              "    </tr>\n",
              "    <tr>\n",
              "      <th>...</th>\n",
              "      <td>...</td>\n",
              "      <td>...</td>\n",
              "      <td>...</td>\n",
              "      <td>...</td>\n",
              "      <td>...</td>\n",
              "      <td>...</td>\n",
              "      <td>...</td>\n",
              "      <td>...</td>\n",
              "      <td>...</td>\n",
              "      <td>...</td>\n",
              "      <td>...</td>\n",
              "      <td>...</td>\n",
              "      <td>...</td>\n",
              "      <td>...</td>\n",
              "      <td>...</td>\n",
              "    </tr>\n",
              "    <tr>\n",
              "      <th>271111</th>\n",
              "      <td>135569</td>\n",
              "      <td>Andrzej ya</td>\n",
              "      <td>M</td>\n",
              "      <td>29.0</td>\n",
              "      <td>179.0</td>\n",
              "      <td>89.0</td>\n",
              "      <td>Poland-1</td>\n",
              "      <td>POL</td>\n",
              "      <td>1976 Winter</td>\n",
              "      <td>1976</td>\n",
              "      <td>Winter</td>\n",
              "      <td>Innsbruck</td>\n",
              "      <td>Luge</td>\n",
              "      <td>Luge Mixed (Men)'s Doubles</td>\n",
              "      <td>None</td>\n",
              "    </tr>\n",
              "    <tr>\n",
              "      <th>271112</th>\n",
              "      <td>135570</td>\n",
              "      <td>Piotr ya</td>\n",
              "      <td>M</td>\n",
              "      <td>27.0</td>\n",
              "      <td>176.0</td>\n",
              "      <td>59.0</td>\n",
              "      <td>Poland</td>\n",
              "      <td>POL</td>\n",
              "      <td>2014 Winter</td>\n",
              "      <td>2014</td>\n",
              "      <td>Winter</td>\n",
              "      <td>Sochi</td>\n",
              "      <td>Ski Jumping</td>\n",
              "      <td>Ski Jumping Men's Large Hill, Individual</td>\n",
              "      <td>None</td>\n",
              "    </tr>\n",
              "    <tr>\n",
              "      <th>271113</th>\n",
              "      <td>135570</td>\n",
              "      <td>Piotr ya</td>\n",
              "      <td>M</td>\n",
              "      <td>27.0</td>\n",
              "      <td>176.0</td>\n",
              "      <td>59.0</td>\n",
              "      <td>Poland</td>\n",
              "      <td>POL</td>\n",
              "      <td>2014 Winter</td>\n",
              "      <td>2014</td>\n",
              "      <td>Winter</td>\n",
              "      <td>Sochi</td>\n",
              "      <td>Ski Jumping</td>\n",
              "      <td>Ski Jumping Men's Large Hill, Team</td>\n",
              "      <td>None</td>\n",
              "    </tr>\n",
              "    <tr>\n",
              "      <th>271114</th>\n",
              "      <td>135571</td>\n",
              "      <td>Tomasz Ireneusz ya</td>\n",
              "      <td>M</td>\n",
              "      <td>30.0</td>\n",
              "      <td>185.0</td>\n",
              "      <td>96.0</td>\n",
              "      <td>Poland</td>\n",
              "      <td>POL</td>\n",
              "      <td>1998 Winter</td>\n",
              "      <td>1998</td>\n",
              "      <td>Winter</td>\n",
              "      <td>Nagano</td>\n",
              "      <td>Bobsleigh</td>\n",
              "      <td>Bobsleigh Men's Four</td>\n",
              "      <td>None</td>\n",
              "    </tr>\n",
              "    <tr>\n",
              "      <th>271115</th>\n",
              "      <td>135571</td>\n",
              "      <td>Tomasz Ireneusz ya</td>\n",
              "      <td>M</td>\n",
              "      <td>34.0</td>\n",
              "      <td>185.0</td>\n",
              "      <td>96.0</td>\n",
              "      <td>Poland</td>\n",
              "      <td>POL</td>\n",
              "      <td>2002 Winter</td>\n",
              "      <td>2002</td>\n",
              "      <td>Winter</td>\n",
              "      <td>Salt Lake City</td>\n",
              "      <td>Bobsleigh</td>\n",
              "      <td>Bobsleigh Men's Four</td>\n",
              "      <td>None</td>\n",
              "    </tr>\n",
              "  </tbody>\n",
              "</table>\n",
              "<p>271116 rows × 15 columns</p>\n",
              "</div>\n",
              "    <div class=\"colab-df-buttons\">\n",
              "\n",
              "  <div class=\"colab-df-container\">\n",
              "    <button class=\"colab-df-convert\" onclick=\"convertToInteractive('df-3ba32124-5ae8-4a43-93fe-bf603f9ed360')\"\n",
              "            title=\"Convert this dataframe to an interactive table.\"\n",
              "            style=\"display:none;\">\n",
              "\n",
              "  <svg xmlns=\"http://www.w3.org/2000/svg\" height=\"24px\" viewBox=\"0 -960 960 960\">\n",
              "    <path d=\"M120-120v-720h720v720H120Zm60-500h600v-160H180v160Zm220 220h160v-160H400v160Zm0 220h160v-160H400v160ZM180-400h160v-160H180v160Zm440 0h160v-160H620v160ZM180-180h160v-160H180v160Zm440 0h160v-160H620v160Z\"/>\n",
              "  </svg>\n",
              "    </button>\n",
              "\n",
              "  <style>\n",
              "    .colab-df-container {\n",
              "      display:flex;\n",
              "      gap: 12px;\n",
              "    }\n",
              "\n",
              "    .colab-df-convert {\n",
              "      background-color: #E8F0FE;\n",
              "      border: none;\n",
              "      border-radius: 50%;\n",
              "      cursor: pointer;\n",
              "      display: none;\n",
              "      fill: #1967D2;\n",
              "      height: 32px;\n",
              "      padding: 0 0 0 0;\n",
              "      width: 32px;\n",
              "    }\n",
              "\n",
              "    .colab-df-convert:hover {\n",
              "      background-color: #E2EBFA;\n",
              "      box-shadow: 0px 1px 2px rgba(60, 64, 67, 0.3), 0px 1px 3px 1px rgba(60, 64, 67, 0.15);\n",
              "      fill: #174EA6;\n",
              "    }\n",
              "\n",
              "    .colab-df-buttons div {\n",
              "      margin-bottom: 4px;\n",
              "    }\n",
              "\n",
              "    [theme=dark] .colab-df-convert {\n",
              "      background-color: #3B4455;\n",
              "      fill: #D2E3FC;\n",
              "    }\n",
              "\n",
              "    [theme=dark] .colab-df-convert:hover {\n",
              "      background-color: #434B5C;\n",
              "      box-shadow: 0px 1px 3px 1px rgba(0, 0, 0, 0.15);\n",
              "      filter: drop-shadow(0px 1px 2px rgba(0, 0, 0, 0.3));\n",
              "      fill: #FFFFFF;\n",
              "    }\n",
              "  </style>\n",
              "\n",
              "    <script>\n",
              "      const buttonEl =\n",
              "        document.querySelector('#df-3ba32124-5ae8-4a43-93fe-bf603f9ed360 button.colab-df-convert');\n",
              "      buttonEl.style.display =\n",
              "        google.colab.kernel.accessAllowed ? 'block' : 'none';\n",
              "\n",
              "      async function convertToInteractive(key) {\n",
              "        const element = document.querySelector('#df-3ba32124-5ae8-4a43-93fe-bf603f9ed360');\n",
              "        const dataTable =\n",
              "          await google.colab.kernel.invokeFunction('convertToInteractive',\n",
              "                                                    [key], {});\n",
              "        if (!dataTable) return;\n",
              "\n",
              "        const docLinkHtml = 'Like what you see? Visit the ' +\n",
              "          '<a target=\"_blank\" href=https://colab.research.google.com/notebooks/data_table.ipynb>data table notebook</a>'\n",
              "          + ' to learn more about interactive tables.';\n",
              "        element.innerHTML = '';\n",
              "        dataTable['output_type'] = 'display_data';\n",
              "        await google.colab.output.renderOutput(dataTable, element);\n",
              "        const docLink = document.createElement('div');\n",
              "        docLink.innerHTML = docLinkHtml;\n",
              "        element.appendChild(docLink);\n",
              "      }\n",
              "    </script>\n",
              "  </div>\n",
              "\n",
              "\n",
              "<div id=\"df-5b571f42-ad2b-497c-a557-d2301c699dfa\">\n",
              "  <button class=\"colab-df-quickchart\" onclick=\"quickchart('df-5b571f42-ad2b-497c-a557-d2301c699dfa')\"\n",
              "            title=\"Suggest charts\"\n",
              "            style=\"display:none;\">\n",
              "\n",
              "<svg xmlns=\"http://www.w3.org/2000/svg\" height=\"24px\"viewBox=\"0 0 24 24\"\n",
              "     width=\"24px\">\n",
              "    <g>\n",
              "        <path d=\"M19 3H5c-1.1 0-2 .9-2 2v14c0 1.1.9 2 2 2h14c1.1 0 2-.9 2-2V5c0-1.1-.9-2-2-2zM9 17H7v-7h2v7zm4 0h-2V7h2v10zm4 0h-2v-4h2v4z\"/>\n",
              "    </g>\n",
              "</svg>\n",
              "  </button>\n",
              "\n",
              "<style>\n",
              "  .colab-df-quickchart {\n",
              "      --bg-color: #E8F0FE;\n",
              "      --fill-color: #1967D2;\n",
              "      --hover-bg-color: #E2EBFA;\n",
              "      --hover-fill-color: #174EA6;\n",
              "      --disabled-fill-color: #AAA;\n",
              "      --disabled-bg-color: #DDD;\n",
              "  }\n",
              "\n",
              "  [theme=dark] .colab-df-quickchart {\n",
              "      --bg-color: #3B4455;\n",
              "      --fill-color: #D2E3FC;\n",
              "      --hover-bg-color: #434B5C;\n",
              "      --hover-fill-color: #FFFFFF;\n",
              "      --disabled-bg-color: #3B4455;\n",
              "      --disabled-fill-color: #666;\n",
              "  }\n",
              "\n",
              "  .colab-df-quickchart {\n",
              "    background-color: var(--bg-color);\n",
              "    border: none;\n",
              "    border-radius: 50%;\n",
              "    cursor: pointer;\n",
              "    display: none;\n",
              "    fill: var(--fill-color);\n",
              "    height: 32px;\n",
              "    padding: 0;\n",
              "    width: 32px;\n",
              "  }\n",
              "\n",
              "  .colab-df-quickchart:hover {\n",
              "    background-color: var(--hover-bg-color);\n",
              "    box-shadow: 0 1px 2px rgba(60, 64, 67, 0.3), 0 1px 3px 1px rgba(60, 64, 67, 0.15);\n",
              "    fill: var(--button-hover-fill-color);\n",
              "  }\n",
              "\n",
              "  .colab-df-quickchart-complete:disabled,\n",
              "  .colab-df-quickchart-complete:disabled:hover {\n",
              "    background-color: var(--disabled-bg-color);\n",
              "    fill: var(--disabled-fill-color);\n",
              "    box-shadow: none;\n",
              "  }\n",
              "\n",
              "  .colab-df-spinner {\n",
              "    border: 2px solid var(--fill-color);\n",
              "    border-color: transparent;\n",
              "    border-bottom-color: var(--fill-color);\n",
              "    animation:\n",
              "      spin 1s steps(1) infinite;\n",
              "  }\n",
              "\n",
              "  @keyframes spin {\n",
              "    0% {\n",
              "      border-color: transparent;\n",
              "      border-bottom-color: var(--fill-color);\n",
              "      border-left-color: var(--fill-color);\n",
              "    }\n",
              "    20% {\n",
              "      border-color: transparent;\n",
              "      border-left-color: var(--fill-color);\n",
              "      border-top-color: var(--fill-color);\n",
              "    }\n",
              "    30% {\n",
              "      border-color: transparent;\n",
              "      border-left-color: var(--fill-color);\n",
              "      border-top-color: var(--fill-color);\n",
              "      border-right-color: var(--fill-color);\n",
              "    }\n",
              "    40% {\n",
              "      border-color: transparent;\n",
              "      border-right-color: var(--fill-color);\n",
              "      border-top-color: var(--fill-color);\n",
              "    }\n",
              "    60% {\n",
              "      border-color: transparent;\n",
              "      border-right-color: var(--fill-color);\n",
              "    }\n",
              "    80% {\n",
              "      border-color: transparent;\n",
              "      border-right-color: var(--fill-color);\n",
              "      border-bottom-color: var(--fill-color);\n",
              "    }\n",
              "    90% {\n",
              "      border-color: transparent;\n",
              "      border-bottom-color: var(--fill-color);\n",
              "    }\n",
              "  }\n",
              "</style>\n",
              "\n",
              "  <script>\n",
              "    async function quickchart(key) {\n",
              "      const quickchartButtonEl =\n",
              "        document.querySelector('#' + key + ' button');\n",
              "      quickchartButtonEl.disabled = true;  // To prevent multiple clicks.\n",
              "      quickchartButtonEl.classList.add('colab-df-spinner');\n",
              "      try {\n",
              "        const charts = await google.colab.kernel.invokeFunction(\n",
              "            'suggestCharts', [key], {});\n",
              "      } catch (error) {\n",
              "        console.error('Error during call to suggestCharts:', error);\n",
              "      }\n",
              "      quickchartButtonEl.classList.remove('colab-df-spinner');\n",
              "      quickchartButtonEl.classList.add('colab-df-quickchart-complete');\n",
              "    }\n",
              "    (() => {\n",
              "      let quickchartButtonEl =\n",
              "        document.querySelector('#df-5b571f42-ad2b-497c-a557-d2301c699dfa button');\n",
              "      quickchartButtonEl.style.display =\n",
              "        google.colab.kernel.accessAllowed ? 'block' : 'none';\n",
              "    })();\n",
              "  </script>\n",
              "</div>\n",
              "\n",
              "  <div id=\"id_f98b52fe-501a-497d-8012-0856039b0108\">\n",
              "    <style>\n",
              "      .colab-df-generate {\n",
              "        background-color: #E8F0FE;\n",
              "        border: none;\n",
              "        border-radius: 50%;\n",
              "        cursor: pointer;\n",
              "        display: none;\n",
              "        fill: #1967D2;\n",
              "        height: 32px;\n",
              "        padding: 0 0 0 0;\n",
              "        width: 32px;\n",
              "      }\n",
              "\n",
              "      .colab-df-generate:hover {\n",
              "        background-color: #E2EBFA;\n",
              "        box-shadow: 0px 1px 2px rgba(60, 64, 67, 0.3), 0px 1px 3px 1px rgba(60, 64, 67, 0.15);\n",
              "        fill: #174EA6;\n",
              "      }\n",
              "\n",
              "      [theme=dark] .colab-df-generate {\n",
              "        background-color: #3B4455;\n",
              "        fill: #D2E3FC;\n",
              "      }\n",
              "\n",
              "      [theme=dark] .colab-df-generate:hover {\n",
              "        background-color: #434B5C;\n",
              "        box-shadow: 0px 1px 3px 1px rgba(0, 0, 0, 0.15);\n",
              "        filter: drop-shadow(0px 1px 2px rgba(0, 0, 0, 0.3));\n",
              "        fill: #FFFFFF;\n",
              "      }\n",
              "    </style>\n",
              "    <button class=\"colab-df-generate\" onclick=\"generateWithVariable('df')\"\n",
              "            title=\"Generate code using this dataframe.\"\n",
              "            style=\"display:none;\">\n",
              "\n",
              "  <svg xmlns=\"http://www.w3.org/2000/svg\" height=\"24px\"viewBox=\"0 0 24 24\"\n",
              "       width=\"24px\">\n",
              "    <path d=\"M7,19H8.4L18.45,9,17,7.55,7,17.6ZM5,21V16.75L18.45,3.32a2,2,0,0,1,2.83,0l1.4,1.43a1.91,1.91,0,0,1,.58,1.4,1.91,1.91,0,0,1-.58,1.4L9.25,21ZM18.45,9,17,7.55Zm-12,3A5.31,5.31,0,0,0,4.9,8.1,5.31,5.31,0,0,0,1,6.5,5.31,5.31,0,0,0,4.9,4.9,5.31,5.31,0,0,0,6.5,1,5.31,5.31,0,0,0,8.1,4.9,5.31,5.31,0,0,0,12,6.5,5.46,5.46,0,0,0,6.5,12Z\"/>\n",
              "  </svg>\n",
              "    </button>\n",
              "    <script>\n",
              "      (() => {\n",
              "      const buttonEl =\n",
              "        document.querySelector('#id_f98b52fe-501a-497d-8012-0856039b0108 button.colab-df-generate');\n",
              "      buttonEl.style.display =\n",
              "        google.colab.kernel.accessAllowed ? 'block' : 'none';\n",
              "\n",
              "      buttonEl.onclick = () => {\n",
              "        google.colab.notebook.generateWithVariable('df');\n",
              "      }\n",
              "      })();\n",
              "    </script>\n",
              "  </div>\n",
              "\n",
              "    </div>\n",
              "  </div>\n"
            ],
            "application/vnd.google.colaboratory.intrinsic+json": {
              "type": "dataframe",
              "variable_name": "df"
            }
          },
          "metadata": {}
        }
      ]
    },
    {
      "cell_type": "markdown",
      "source": [
        "# 2 - Análise de Dados\n",
        "\n",
        "\n",
        "\n"
      ],
      "metadata": {
        "id": "aVFzbMWgORlf"
      }
    },
    {
      "cell_type": "markdown",
      "source": [
        "### 2.1 - Validação de colunas numéricas\n",
        "\n",
        "Aparentemente não há nenhuma coluna numérica com uma String, porém iremos ter um controle sobre isso ainda assim."
      ],
      "metadata": {
        "id": "72KqHkyNWoVX"
      }
    },
    {
      "cell_type": "code",
      "source": [
        "#Detalhes sobre os dados\n",
        "df.describe()"
      ],
      "metadata": {
        "id": "vqV5YWvlb3VP",
        "colab": {
          "base_uri": "https://localhost:8080/",
          "height": 300
        },
        "outputId": "850d7930-7fe1-4804-f1dc-aa8312564784"
      },
      "execution_count": 82,
      "outputs": [
        {
          "output_type": "execute_result",
          "data": {
            "text/plain": [
              "                  ID            Age         Height         Weight  \\\n",
              "count  271116.000000  261642.000000  210945.000000  208241.000000   \n",
              "mean    68248.954396      25.556898     175.338970      70.702393   \n",
              "std     39022.286345       6.393561      10.518462      14.348020   \n",
              "min         1.000000      10.000000     127.000000      25.000000   \n",
              "25%     34643.000000      21.000000     168.000000      60.000000   \n",
              "50%     68205.000000      24.000000     175.000000      70.000000   \n",
              "75%    102097.250000      28.000000     183.000000      79.000000   \n",
              "max    135571.000000      97.000000     226.000000     214.000000   \n",
              "\n",
              "                Year  \n",
              "count  271116.000000  \n",
              "mean     1978.378480  \n",
              "std        29.877632  \n",
              "min      1896.000000  \n",
              "25%      1960.000000  \n",
              "50%      1988.000000  \n",
              "75%      2002.000000  \n",
              "max      2016.000000  "
            ],
            "text/html": [
              "\n",
              "  <div id=\"df-d8520162-3a81-4606-ade7-6892d967885e\" class=\"colab-df-container\">\n",
              "    <div>\n",
              "<style scoped>\n",
              "    .dataframe tbody tr th:only-of-type {\n",
              "        vertical-align: middle;\n",
              "    }\n",
              "\n",
              "    .dataframe tbody tr th {\n",
              "        vertical-align: top;\n",
              "    }\n",
              "\n",
              "    .dataframe thead th {\n",
              "        text-align: right;\n",
              "    }\n",
              "</style>\n",
              "<table border=\"1\" class=\"dataframe\">\n",
              "  <thead>\n",
              "    <tr style=\"text-align: right;\">\n",
              "      <th></th>\n",
              "      <th>ID</th>\n",
              "      <th>Age</th>\n",
              "      <th>Height</th>\n",
              "      <th>Weight</th>\n",
              "      <th>Year</th>\n",
              "    </tr>\n",
              "  </thead>\n",
              "  <tbody>\n",
              "    <tr>\n",
              "      <th>count</th>\n",
              "      <td>271116.000000</td>\n",
              "      <td>261642.000000</td>\n",
              "      <td>210945.000000</td>\n",
              "      <td>208241.000000</td>\n",
              "      <td>271116.000000</td>\n",
              "    </tr>\n",
              "    <tr>\n",
              "      <th>mean</th>\n",
              "      <td>68248.954396</td>\n",
              "      <td>25.556898</td>\n",
              "      <td>175.338970</td>\n",
              "      <td>70.702393</td>\n",
              "      <td>1978.378480</td>\n",
              "    </tr>\n",
              "    <tr>\n",
              "      <th>std</th>\n",
              "      <td>39022.286345</td>\n",
              "      <td>6.393561</td>\n",
              "      <td>10.518462</td>\n",
              "      <td>14.348020</td>\n",
              "      <td>29.877632</td>\n",
              "    </tr>\n",
              "    <tr>\n",
              "      <th>min</th>\n",
              "      <td>1.000000</td>\n",
              "      <td>10.000000</td>\n",
              "      <td>127.000000</td>\n",
              "      <td>25.000000</td>\n",
              "      <td>1896.000000</td>\n",
              "    </tr>\n",
              "    <tr>\n",
              "      <th>25%</th>\n",
              "      <td>34643.000000</td>\n",
              "      <td>21.000000</td>\n",
              "      <td>168.000000</td>\n",
              "      <td>60.000000</td>\n",
              "      <td>1960.000000</td>\n",
              "    </tr>\n",
              "    <tr>\n",
              "      <th>50%</th>\n",
              "      <td>68205.000000</td>\n",
              "      <td>24.000000</td>\n",
              "      <td>175.000000</td>\n",
              "      <td>70.000000</td>\n",
              "      <td>1988.000000</td>\n",
              "    </tr>\n",
              "    <tr>\n",
              "      <th>75%</th>\n",
              "      <td>102097.250000</td>\n",
              "      <td>28.000000</td>\n",
              "      <td>183.000000</td>\n",
              "      <td>79.000000</td>\n",
              "      <td>2002.000000</td>\n",
              "    </tr>\n",
              "    <tr>\n",
              "      <th>max</th>\n",
              "      <td>135571.000000</td>\n",
              "      <td>97.000000</td>\n",
              "      <td>226.000000</td>\n",
              "      <td>214.000000</td>\n",
              "      <td>2016.000000</td>\n",
              "    </tr>\n",
              "  </tbody>\n",
              "</table>\n",
              "</div>\n",
              "    <div class=\"colab-df-buttons\">\n",
              "\n",
              "  <div class=\"colab-df-container\">\n",
              "    <button class=\"colab-df-convert\" onclick=\"convertToInteractive('df-d8520162-3a81-4606-ade7-6892d967885e')\"\n",
              "            title=\"Convert this dataframe to an interactive table.\"\n",
              "            style=\"display:none;\">\n",
              "\n",
              "  <svg xmlns=\"http://www.w3.org/2000/svg\" height=\"24px\" viewBox=\"0 -960 960 960\">\n",
              "    <path d=\"M120-120v-720h720v720H120Zm60-500h600v-160H180v160Zm220 220h160v-160H400v160Zm0 220h160v-160H400v160ZM180-400h160v-160H180v160Zm440 0h160v-160H620v160ZM180-180h160v-160H180v160Zm440 0h160v-160H620v160Z\"/>\n",
              "  </svg>\n",
              "    </button>\n",
              "\n",
              "  <style>\n",
              "    .colab-df-container {\n",
              "      display:flex;\n",
              "      gap: 12px;\n",
              "    }\n",
              "\n",
              "    .colab-df-convert {\n",
              "      background-color: #E8F0FE;\n",
              "      border: none;\n",
              "      border-radius: 50%;\n",
              "      cursor: pointer;\n",
              "      display: none;\n",
              "      fill: #1967D2;\n",
              "      height: 32px;\n",
              "      padding: 0 0 0 0;\n",
              "      width: 32px;\n",
              "    }\n",
              "\n",
              "    .colab-df-convert:hover {\n",
              "      background-color: #E2EBFA;\n",
              "      box-shadow: 0px 1px 2px rgba(60, 64, 67, 0.3), 0px 1px 3px 1px rgba(60, 64, 67, 0.15);\n",
              "      fill: #174EA6;\n",
              "    }\n",
              "\n",
              "    .colab-df-buttons div {\n",
              "      margin-bottom: 4px;\n",
              "    }\n",
              "\n",
              "    [theme=dark] .colab-df-convert {\n",
              "      background-color: #3B4455;\n",
              "      fill: #D2E3FC;\n",
              "    }\n",
              "\n",
              "    [theme=dark] .colab-df-convert:hover {\n",
              "      background-color: #434B5C;\n",
              "      box-shadow: 0px 1px 3px 1px rgba(0, 0, 0, 0.15);\n",
              "      filter: drop-shadow(0px 1px 2px rgba(0, 0, 0, 0.3));\n",
              "      fill: #FFFFFF;\n",
              "    }\n",
              "  </style>\n",
              "\n",
              "    <script>\n",
              "      const buttonEl =\n",
              "        document.querySelector('#df-d8520162-3a81-4606-ade7-6892d967885e button.colab-df-convert');\n",
              "      buttonEl.style.display =\n",
              "        google.colab.kernel.accessAllowed ? 'block' : 'none';\n",
              "\n",
              "      async function convertToInteractive(key) {\n",
              "        const element = document.querySelector('#df-d8520162-3a81-4606-ade7-6892d967885e');\n",
              "        const dataTable =\n",
              "          await google.colab.kernel.invokeFunction('convertToInteractive',\n",
              "                                                    [key], {});\n",
              "        if (!dataTable) return;\n",
              "\n",
              "        const docLinkHtml = 'Like what you see? Visit the ' +\n",
              "          '<a target=\"_blank\" href=https://colab.research.google.com/notebooks/data_table.ipynb>data table notebook</a>'\n",
              "          + ' to learn more about interactive tables.';\n",
              "        element.innerHTML = '';\n",
              "        dataTable['output_type'] = 'display_data';\n",
              "        await google.colab.output.renderOutput(dataTable, element);\n",
              "        const docLink = document.createElement('div');\n",
              "        docLink.innerHTML = docLinkHtml;\n",
              "        element.appendChild(docLink);\n",
              "      }\n",
              "    </script>\n",
              "  </div>\n",
              "\n",
              "\n",
              "<div id=\"df-43e6e768-9b60-4c71-a1b2-b629157962ac\">\n",
              "  <button class=\"colab-df-quickchart\" onclick=\"quickchart('df-43e6e768-9b60-4c71-a1b2-b629157962ac')\"\n",
              "            title=\"Suggest charts\"\n",
              "            style=\"display:none;\">\n",
              "\n",
              "<svg xmlns=\"http://www.w3.org/2000/svg\" height=\"24px\"viewBox=\"0 0 24 24\"\n",
              "     width=\"24px\">\n",
              "    <g>\n",
              "        <path d=\"M19 3H5c-1.1 0-2 .9-2 2v14c0 1.1.9 2 2 2h14c1.1 0 2-.9 2-2V5c0-1.1-.9-2-2-2zM9 17H7v-7h2v7zm4 0h-2V7h2v10zm4 0h-2v-4h2v4z\"/>\n",
              "    </g>\n",
              "</svg>\n",
              "  </button>\n",
              "\n",
              "<style>\n",
              "  .colab-df-quickchart {\n",
              "      --bg-color: #E8F0FE;\n",
              "      --fill-color: #1967D2;\n",
              "      --hover-bg-color: #E2EBFA;\n",
              "      --hover-fill-color: #174EA6;\n",
              "      --disabled-fill-color: #AAA;\n",
              "      --disabled-bg-color: #DDD;\n",
              "  }\n",
              "\n",
              "  [theme=dark] .colab-df-quickchart {\n",
              "      --bg-color: #3B4455;\n",
              "      --fill-color: #D2E3FC;\n",
              "      --hover-bg-color: #434B5C;\n",
              "      --hover-fill-color: #FFFFFF;\n",
              "      --disabled-bg-color: #3B4455;\n",
              "      --disabled-fill-color: #666;\n",
              "  }\n",
              "\n",
              "  .colab-df-quickchart {\n",
              "    background-color: var(--bg-color);\n",
              "    border: none;\n",
              "    border-radius: 50%;\n",
              "    cursor: pointer;\n",
              "    display: none;\n",
              "    fill: var(--fill-color);\n",
              "    height: 32px;\n",
              "    padding: 0;\n",
              "    width: 32px;\n",
              "  }\n",
              "\n",
              "  .colab-df-quickchart:hover {\n",
              "    background-color: var(--hover-bg-color);\n",
              "    box-shadow: 0 1px 2px rgba(60, 64, 67, 0.3), 0 1px 3px 1px rgba(60, 64, 67, 0.15);\n",
              "    fill: var(--button-hover-fill-color);\n",
              "  }\n",
              "\n",
              "  .colab-df-quickchart-complete:disabled,\n",
              "  .colab-df-quickchart-complete:disabled:hover {\n",
              "    background-color: var(--disabled-bg-color);\n",
              "    fill: var(--disabled-fill-color);\n",
              "    box-shadow: none;\n",
              "  }\n",
              "\n",
              "  .colab-df-spinner {\n",
              "    border: 2px solid var(--fill-color);\n",
              "    border-color: transparent;\n",
              "    border-bottom-color: var(--fill-color);\n",
              "    animation:\n",
              "      spin 1s steps(1) infinite;\n",
              "  }\n",
              "\n",
              "  @keyframes spin {\n",
              "    0% {\n",
              "      border-color: transparent;\n",
              "      border-bottom-color: var(--fill-color);\n",
              "      border-left-color: var(--fill-color);\n",
              "    }\n",
              "    20% {\n",
              "      border-color: transparent;\n",
              "      border-left-color: var(--fill-color);\n",
              "      border-top-color: var(--fill-color);\n",
              "    }\n",
              "    30% {\n",
              "      border-color: transparent;\n",
              "      border-left-color: var(--fill-color);\n",
              "      border-top-color: var(--fill-color);\n",
              "      border-right-color: var(--fill-color);\n",
              "    }\n",
              "    40% {\n",
              "      border-color: transparent;\n",
              "      border-right-color: var(--fill-color);\n",
              "      border-top-color: var(--fill-color);\n",
              "    }\n",
              "    60% {\n",
              "      border-color: transparent;\n",
              "      border-right-color: var(--fill-color);\n",
              "    }\n",
              "    80% {\n",
              "      border-color: transparent;\n",
              "      border-right-color: var(--fill-color);\n",
              "      border-bottom-color: var(--fill-color);\n",
              "    }\n",
              "    90% {\n",
              "      border-color: transparent;\n",
              "      border-bottom-color: var(--fill-color);\n",
              "    }\n",
              "  }\n",
              "</style>\n",
              "\n",
              "  <script>\n",
              "    async function quickchart(key) {\n",
              "      const quickchartButtonEl =\n",
              "        document.querySelector('#' + key + ' button');\n",
              "      quickchartButtonEl.disabled = true;  // To prevent multiple clicks.\n",
              "      quickchartButtonEl.classList.add('colab-df-spinner');\n",
              "      try {\n",
              "        const charts = await google.colab.kernel.invokeFunction(\n",
              "            'suggestCharts', [key], {});\n",
              "      } catch (error) {\n",
              "        console.error('Error during call to suggestCharts:', error);\n",
              "      }\n",
              "      quickchartButtonEl.classList.remove('colab-df-spinner');\n",
              "      quickchartButtonEl.classList.add('colab-df-quickchart-complete');\n",
              "    }\n",
              "    (() => {\n",
              "      let quickchartButtonEl =\n",
              "        document.querySelector('#df-43e6e768-9b60-4c71-a1b2-b629157962ac button');\n",
              "      quickchartButtonEl.style.display =\n",
              "        google.colab.kernel.accessAllowed ? 'block' : 'none';\n",
              "    })();\n",
              "  </script>\n",
              "</div>\n",
              "\n",
              "    </div>\n",
              "  </div>\n"
            ],
            "application/vnd.google.colaboratory.intrinsic+json": {
              "type": "dataframe",
              "summary": "{\n  \"name\": \"df\",\n  \"rows\": 8,\n  \"fields\": [\n    {\n      \"column\": \"ID\",\n      \"properties\": {\n        \"dtype\": \"number\",\n        \"std\": 84292.84810060594,\n        \"min\": 1.0,\n        \"max\": 271116.0,\n        \"num_unique_values\": 8,\n        \"samples\": [\n          68248.95439590434,\n          68205.0,\n          271116.0\n        ],\n        \"semantic_type\": \"\",\n        \"description\": \"\"\n      }\n    },\n    {\n      \"column\": \"Age\",\n      \"properties\": {\n        \"dtype\": \"number\",\n        \"std\": 92493.71542098433,\n        \"min\": 6.393560847035813,\n        \"max\": 261642.0,\n        \"num_unique_values\": 8,\n        \"samples\": [\n          25.556898357297374,\n          24.0,\n          261642.0\n        ],\n        \"semantic_type\": \"\",\n        \"description\": \"\"\n      }\n    },\n    {\n      \"column\": \"Height\",\n      \"properties\": {\n        \"dtype\": \"number\",\n        \"std\": 74526.5637841829,\n        \"min\": 10.518462222679224,\n        \"max\": 210945.0,\n        \"num_unique_values\": 8,\n        \"samples\": [\n          175.33896987366376,\n          175.0,\n          210945.0\n        ],\n        \"semantic_type\": \"\",\n        \"description\": \"\"\n      }\n    },\n    {\n      \"column\": \"Weight\",\n      \"properties\": {\n        \"dtype\": \"number\",\n        \"std\": 73597.41351430384,\n        \"min\": 14.348019999019392,\n        \"max\": 208241.0,\n        \"num_unique_values\": 8,\n        \"samples\": [\n          70.70239290053351,\n          70.0,\n          208241.0\n        ],\n        \"semantic_type\": \"\",\n        \"description\": \"\"\n      }\n    },\n    {\n      \"column\": \"Year\",\n      \"properties\": {\n        \"dtype\": \"number\",\n        \"std\": 95256.87714696524,\n        \"min\": 29.877631985613423,\n        \"max\": 271116.0,\n        \"num_unique_values\": 8,\n        \"samples\": [\n          1978.3784800601957,\n          1988.0,\n          271116.0\n        ],\n        \"semantic_type\": \"\",\n        \"description\": \"\"\n      }\n    }\n  ]\n}"
            }
          },
          "metadata": {},
          "execution_count": 82
        }
      ]
    },
    {
      "cell_type": "code",
      "source": [
        "# Define a função que verifica se cada valor é do tipo numérico\n",
        "def is_numeric(x):\n",
        "    return isinstance(x, (int, float))\n",
        "\n",
        "# Aplica a função a cada valor nas colunas \"ID\", \"Age\", \"Height\", \"Weight\" e \"Year\"\n",
        "numeric_cols = ['ID', 'Age', 'Height', 'Weight', 'Year']\n",
        "numeric_mask = df[numeric_cols].map(is_numeric)\n",
        "\n",
        "# Remove os registros com valores de string nas colunas numéricas\n",
        "df = df[numeric_mask.all(axis=1)]"
      ],
      "metadata": {
        "id": "V9ygu0niW-YH"
      },
      "execution_count": 83,
      "outputs": []
    },
    {
      "cell_type": "code",
      "source": [
        "df.info()"
      ],
      "metadata": {
        "id": "yONIlbf5dupf",
        "colab": {
          "base_uri": "https://localhost:8080/"
        },
        "outputId": "37552d6f-4d25-418e-8c5e-7c5b8f30faf9"
      },
      "execution_count": 84,
      "outputs": [
        {
          "output_type": "stream",
          "name": "stdout",
          "text": [
            "<class 'pandas.core.frame.DataFrame'>\n",
            "RangeIndex: 271116 entries, 0 to 271115\n",
            "Data columns (total 15 columns):\n",
            " #   Column  Non-Null Count   Dtype  \n",
            "---  ------  --------------   -----  \n",
            " 0   ID      271116 non-null  int64  \n",
            " 1   Name    271116 non-null  object \n",
            " 2   Sex     271116 non-null  object \n",
            " 3   Age     261642 non-null  float64\n",
            " 4   Height  210945 non-null  float64\n",
            " 5   Weight  208241 non-null  float64\n",
            " 6   Team    271116 non-null  object \n",
            " 7   NOC     271116 non-null  object \n",
            " 8   Games   271116 non-null  object \n",
            " 9   Year    271116 non-null  int64  \n",
            " 10  Season  271116 non-null  object \n",
            " 11  City    271116 non-null  object \n",
            " 12  Sport   271116 non-null  object \n",
            " 13  Event   271116 non-null  object \n",
            " 14  Medal   39783 non-null   object \n",
            "dtypes: float64(3), int64(2), object(10)\n",
            "memory usage: 31.0+ MB\n"
          ]
        }
      ]
    },
    {
      "cell_type": "markdown",
      "source": [
        "### 2.2 - Análise de nulos\n",
        "No código abaixo, podemos notar que existem muitos valores nulos em Idade, Peso e Tamanho, porém como não iremos utilizar esses dados para nenhuma análise, irei mantê-los dessa maneira.\n",
        "Quanto aos nulos nas medalhas, representam os atletas que não ganharam medalhas e será tratado em outra momento."
      ],
      "metadata": {
        "id": "hVAMMXJnaQp5"
      }
    },
    {
      "cell_type": "code",
      "source": [
        "# Contagem de valores nulos\n",
        "null_counts = df.isnull().sum()\n",
        "print(null_counts)"
      ],
      "metadata": {
        "id": "SkTMO2KVRg0E",
        "colab": {
          "base_uri": "https://localhost:8080/"
        },
        "outputId": "b3191979-8d05-4c67-8d86-ddbe42aff0c4"
      },
      "execution_count": 85,
      "outputs": [
        {
          "output_type": "stream",
          "name": "stdout",
          "text": [
            "ID             0\n",
            "Name           0\n",
            "Sex            0\n",
            "Age         9474\n",
            "Height     60171\n",
            "Weight     62875\n",
            "Team           0\n",
            "NOC            0\n",
            "Games          0\n",
            "Year           0\n",
            "Season         0\n",
            "City           0\n",
            "Sport          0\n",
            "Event          0\n",
            "Medal     231333\n",
            "dtype: int64\n"
          ]
        }
      ]
    },
    {
      "cell_type": "code",
      "source": [
        "# Contagem de valores nulos por coluna\n",
        "null_counts = df.isnull().sum()\n",
        "\n",
        "# Filtra apenas colunas com valores nulos\n",
        "null_counts = null_counts[null_counts > 0]\n",
        "\n",
        "# Configura o tamanho do gráfico\n",
        "plt.figure(figsize=(10, 6))\n",
        "\n",
        "# Cria o gráfico de barras\n",
        "sns.barplot(x=null_counts.index, y=null_counts.values, palette=\"viridis\")\n",
        "\n",
        "# Personaliza o gráfico\n",
        "plt.xticks(rotation=90)  # Rotaciona os nomes das colunas para facilitar a leitura\n",
        "plt.title('Contagem de Valores Nulos por Coluna')\n",
        "plt.xlabel('Colunas')\n",
        "plt.ylabel('Quantidade de Valores Nulos')\n",
        "\n",
        "# Exibe o gráfico\n",
        "plt.show()\n"
      ],
      "metadata": {
        "colab": {
          "base_uri": "https://localhost:8080/",
          "height": 678
        },
        "id": "7E6PYphF-ivD",
        "outputId": "05098ab7-d1d2-408f-e54f-d94043df4b2e"
      },
      "execution_count": 86,
      "outputs": [
        {
          "output_type": "stream",
          "name": "stderr",
          "text": [
            "<ipython-input-86-b71ca987cea8>:11: FutureWarning: \n",
            "\n",
            "Passing `palette` without assigning `hue` is deprecated and will be removed in v0.14.0. Assign the `x` variable to `hue` and set `legend=False` for the same effect.\n",
            "\n",
            "  sns.barplot(x=null_counts.index, y=null_counts.values, palette=\"viridis\")\n"
          ]
        },
        {
          "output_type": "display_data",
          "data": {
            "text/plain": [
              "<Figure size 1000x600 with 1 Axes>"
            ],
            "image/png": "[encoded data removed]"
          },
          "metadata": {}
        }
      ]
    },
    {
      "cell_type": "markdown",
      "source": [
        "### 2.3 - Histogramas\n",
        "\n",
        "Aqui podemos notar alguns pontos interessantes:\n",
        "\n",
        "*   Os atletas costumam ser novos, tendo na sua maioria menos que 30 anos;\n",
        "*   Os atletas costumam ser mais magros, podemos observar que a média de peso está por volta dos 75 Kg (não estamos fazendo distinção de homens e mulheres);\n",
        "*   A quantidade de atletas aumentou muito no decorrer dos anos.\n",
        "\n"
      ],
      "metadata": {
        "id": "et8JcvEIDeqp"
      }
    },
    {
      "cell_type": "code",
      "source": [
        "# Filtra apenas colunas numéricas\n",
        "numerical_columns = ['Age', 'Height', 'Weight', 'Year']\n",
        "\n",
        "# Configura o tamanho geral da figura para acomodar todos os gráficos\n",
        "plt.figure(figsize=(15, 10))\n",
        "\n",
        "# Gera histogramas para cada coluna numérica\n",
        "for i, column in enumerate(numerical_columns, 1):\n",
        "    plt.subplot(len(numerical_columns) // 3 + 1, 3, i)  # Organiza os subplots\n",
        "    sns.histplot(df[column], bins=30, color='skyblue')  # Histograma com linha de densidade\n",
        "    plt.title(f'Distribuição de {column}')\n",
        "    plt.xlabel(column)\n",
        "    plt.ylabel('Frequência')\n",
        "\n",
        "plt.tight_layout()  # Ajusta o layout\n",
        "plt.show()\n"
      ],
      "metadata": {
        "colab": {
          "base_uri": "https://localhost:8080/",
          "height": 974
        },
        "id": "yGZxNifOCrzY",
        "outputId": "d3c2112e-309c-494b-f797-9929ed37d6af"
      },
      "execution_count": 87,
      "outputs": [
        {
          "output_type": "display_data",
          "data": {
            "text/plain": [
              "<Figure size 1500x1000 with 4 Axes>"
            ],
            "image/png": "[encoded data removed]"
          },
          "metadata": {}
        }
      ]
    },
    {
      "cell_type": "markdown",
      "source": [
        "### 2.4 - Peso x Altura\n",
        "\n",
        "Podemos notar uma grande correlação entre peso e altura, reforçando que os atletas normalmente costumam ser magros e estar dentro do peso (variando de acordo com o esporte).\n",
        "<br>O heatmap ressalta mais essa característica dos dados."
      ],
      "metadata": {
        "id": "yuvAPfobEzsh"
      }
    },
    {
      "cell_type": "code",
      "source": [
        "# Configura o tamanho da figura\n",
        "plt.figure(figsize=(10, 6))\n",
        "\n",
        "# Cria o gráfico de dispersão com linha de regressão\n",
        "sns.scatterplot(data=df, x='Height', y='Weight', color='skyblue', s=100, alpha=0.6)\n",
        "\n",
        "# Adiciona uma linha de regressão\n",
        "sns.regplot(data=df, x='Height', y='Weight', scatter=False, color='red')\n",
        "\n",
        "# Personaliza o gráfico\n",
        "plt.title('Comparativo entre Peso e Altura')\n",
        "plt.xlabel('Altura')\n",
        "plt.ylabel('Peso')\n",
        "\n",
        "# Exibe o gráfico\n",
        "plt.show()\n"
      ],
      "metadata": {
        "id": "_qak6mFrEYSI"
      },
      "execution_count": null,
      "outputs": []
    },
    {
      "cell_type": "code",
      "source": [
        "plt.figure(figsize=(10, 8))\n",
        "correlation_matrix = df[numerical_columns].corr()\n",
        "sns.heatmap(correlation_matrix, annot=True, cmap='coolwarm', fmt='.2f', linewidths=0.5)\n",
        "plt.title('Matriz de Correlação')\n",
        "plt.show()"
      ],
      "metadata": {
        "id": "mGxy211UFS_z"
      },
      "execution_count": null,
      "outputs": []
    },
    {
      "cell_type": "markdown",
      "source": [
        "### 2.5 - Remoção de duplicatas\n",
        "\n",
        "No código abaixo, estamos encontrando dados duplicados, então estou fazendo uma rotina para remoção."
      ],
      "metadata": {
        "id": "09-VUr-3Jn6V"
      }
    },
    {
      "cell_type": "code",
      "source": [
        "duplicates = df.duplicated()\n",
        "duplicate_rows = df[duplicates]\n",
        "duplicate_rows.head()"
      ],
      "metadata": {
        "id": "klymZbTNc7I7"
      },
      "execution_count": null,
      "outputs": []
    },
    {
      "cell_type": "code",
      "source": [
        "# Obtém os índices das linhas duplicadas\n",
        "duplicate_indices = duplicate_rows.index\n",
        "\n",
        "# Remove as linhas duplicadas do dataframe original\n",
        "df = df.drop(duplicate_indices)"
      ],
      "metadata": {
        "id": "LTvvI2tqe7CF"
      },
      "execution_count": null,
      "outputs": []
    },
    {
      "cell_type": "markdown",
      "source": [
        "### 2.6 - Verificação de Season\n",
        "\n",
        "Não foi encontrado nenhum caso, mas ainda assim iremos utilizar essa regra.\n",
        "Hoje em dia existe uma diferença de dois anos entre os jogos de verão e inverno, porém antigamente os jogos aconteciam no mesmo ano, então essa separação é importante.\n",
        "\n"
      ],
      "metadata": {
        "id": "zpqfaITELeBI"
      }
    },
    {
      "cell_type": "code",
      "source": [
        "df['Season'].value_counts()"
      ],
      "metadata": {
        "id": "dxo1vcPpb7aY"
      },
      "execution_count": null,
      "outputs": []
    },
    {
      "cell_type": "code",
      "source": [
        "# Remove qualquer linha que não tenha \"Summer\" ou \"Winter\" na coluna \"Season\"\n",
        "df = df.query('Season == \"Summer\" or Season == \"Winter\"')"
      ],
      "metadata": {
        "id": "en3MFmMcLsP7"
      },
      "execution_count": null,
      "outputs": []
    },
    {
      "cell_type": "markdown",
      "source": [
        "### 2.7 - Verificação de Sports\n",
        "\n",
        "Não foi encontrado nenhum caso de Sport que pareça ter seu nome errado, então não foi criado nenhum tipo de ajuste."
      ],
      "metadata": {
        "id": "fe_DaFzBT0g1"
      }
    },
    {
      "cell_type": "code",
      "source": [
        "sport_count= df['Sport'].value_counts()\n",
        "# Convertendo para string para poder ver todas as linhas no notebook\n",
        "sport_count = sport_count.to_string()\n",
        "print(sport_count)"
      ],
      "metadata": {
        "id": "QailowusPPXn"
      },
      "execution_count": null,
      "outputs": []
    },
    {
      "cell_type": "markdown",
      "source": [
        "### 2.8 - Verificação de Ano\n",
        "\n",
        "Não foi encontrado nenhum caso onde a data não seja entre as primeiras olimpíadas (1896) e a data atual, ainda assim criei um controle para evitar esse tipo de dado."
      ],
      "metadata": {
        "id": "eruY73ISVcIh"
      }
    },
    {
      "cell_type": "code",
      "source": [
        "import datetime\n",
        "\n",
        "# Obtém o ano atual\n",
        "current_year = datetime.datetime.now().year\n",
        "\n",
        "# Verifica se há algum ano inválido na coluna \"Year\"\n",
        "any_invalid_year = ((df['Year'] < 1896) | (df['Year'] > current_year)).any()\n",
        "\n",
        "# Imprime o resultado da verificação\n",
        "print(any_invalid_year)\n"
      ],
      "metadata": {
        "id": "H7yoLzQ8U8j_"
      },
      "execution_count": null,
      "outputs": []
    },
    {
      "cell_type": "code",
      "source": [
        "# Remove qualquer registro com um ano fora do intervalo entre 1896 e o ano atual\n",
        "df = df.query('1896 <= Year <= @current_year')"
      ],
      "metadata": {
        "id": "DM8chTORVTXa"
      },
      "execution_count": null,
      "outputs": []
    },
    {
      "cell_type": "markdown",
      "source": [
        "### 2.9 - Verificação de NOC duplicados\n",
        "\n",
        "Não foram encontrados, porém não criarei nenhuma regra, uma vez que caso isso ocorra, o caso deverá ser analisado a parte.\n"
      ],
      "metadata": {
        "id": "b1BX2gS0Zfsg"
      }
    },
    {
      "cell_type": "code",
      "source": [
        "duplicates = df_noc.duplicated(subset=[\"NOC\"])\n",
        "duplicate_rows = df_noc[duplicates]\n",
        "duplicate_rows.head()"
      ],
      "metadata": {
        "id": "yvuMf4YoZNGY"
      },
      "execution_count": null,
      "outputs": []
    },
    {
      "cell_type": "markdown",
      "source": [
        "### 2.10 - Limpeza de espaços em branco das strings"
      ],
      "metadata": {
        "id": "od8KquL2wVnx"
      }
    },
    {
      "cell_type": "code",
      "source": [
        "# Remove todos os caracteres invisíveis e espaços em branco no início e no final do nome\n",
        "df['Name'] = df['Name'].str.strip()\n",
        "df['Sport'] = df['Sport'].str.strip()\n",
        "df['Event'] = df['Event'].str.strip()"
      ],
      "metadata": {
        "id": "FIeb-Ti5wcbD"
      },
      "execution_count": null,
      "outputs": []
    },
    {
      "cell_type": "markdown",
      "source": [
        "# 3 - Pré-processamento"
      ],
      "metadata": {
        "id": "49j6EjM1FzRr"
      }
    },
    {
      "cell_type": "markdown",
      "source": [
        "### 3.1 - Criação de uma coluna de cidade no arquivo de NOC\n",
        "\n",
        "Nesse ponto iremos criar um mapeamento manual entre cidades sede e NOCs, para poder chegar na informação de país sede.\n",
        "\n",
        "\n"
      ],
      "metadata": {
        "id": "zd7Ag_p7autL"
      }
    },
    {
      "cell_type": "code",
      "source": [
        "cities = df['City'].unique().tolist()\n",
        "cities"
      ],
      "metadata": {
        "id": "HwNvvsztkKyv",
        "collapsed": true
      },
      "execution_count": null,
      "outputs": []
    },
    {
      "cell_type": "code",
      "source": [
        "# Criação de um dicionário com a relação entre cidade e NOC, assim posso saber qual foi o país sede.\n",
        "city_to_noc = {\n",
        "    'Barcelona': 'ESP',\n",
        "    'London': 'GBR',\n",
        "    'Antwerpen': 'BEL',\n",
        "    'Paris': 'FRA',\n",
        "    'Calgary': 'CAN',\n",
        "    'Albertville': 'FRA',\n",
        "    'Lillehammer': 'NOR',\n",
        "    'Los Angeles': 'USA',\n",
        "    'Salt Lake City': 'USA',\n",
        "    'Helsinki': 'FIN',\n",
        "    'Lake Placid': 'USA',\n",
        "    'Sydney': 'AUS',\n",
        "    'Atlanta': 'USA',\n",
        "    'Stockholm': 'SWE',\n",
        "    'Sochi': 'RUS',\n",
        "    'Nagano': 'JPN',\n",
        "    'Torino': 'ITA',\n",
        "    'Beijing': 'CHN',\n",
        "    'Rio de Janeiro': 'BRA',\n",
        "    'Athina': 'GRE',\n",
        "    'Squaw Valley': 'USA',\n",
        "    'Innsbruck': 'AUT',\n",
        "    'Sarajevo': 'YUG',\n",
        "    'Mexico City': 'MEX',\n",
        "    'Munich': 'FRG',\n",
        "    'Seoul': 'KOR',\n",
        "    'Berlin': 'GER',\n",
        "    'Oslo': 'NOR',\n",
        "    'Cortina d\\'Ampezzo': 'ITA',\n",
        "    'Melbourne': 'AUS',\n",
        "    'Roma': 'ITA',\n",
        "    'Amsterdam': 'NED',\n",
        "    'Montreal': 'CAN',\n",
        "    'Moskva': 'RUS',\n",
        "    'Tokyo': 'JPN',\n",
        "    'Vancouver': 'CAN',\n",
        "    'Grenoble': 'FRA',\n",
        "    'Sapporo': 'JPN',\n",
        "    'Chamonix': 'FRA',\n",
        "    'St. Louis': 'USA',\n",
        "    'Sankt Moritz': 'SUI',\n",
        "    'Garmisch-Partenkirchen': 'GER'\n",
        "}\n",
        "\n",
        "# Adiciona a nova coluna 'City' ao dataframe df_noc_silver usando o dicionário\n",
        "df['NOC_Sede'] = df['City'].map(city_to_noc.get)"
      ],
      "metadata": {
        "id": "A07eDIC3Xfqd"
      },
      "execution_count": null,
      "outputs": []
    },
    {
      "cell_type": "markdown",
      "source": [
        "### 3.2 - Verificação de regiões sem valor ou ausentes\n",
        "\n",
        "A coluna notes num geral traz informações como nomes antigos ou nomes alternativos daquela região.\n",
        "Porém nesses poucos casos em que a coluna region está com valor nulo, essa coluna notes traz uma informação melhor, então iremos utilizar ela no lugar de region nesses casos."
      ],
      "metadata": {
        "id": "XZf8eMPsb_n2"
      }
    },
    {
      "cell_type": "code",
      "source": [
        "# Contagem de valores nulos\n",
        "null_counts = df_noc.isnull().sum()\n",
        "null_counts"
      ],
      "metadata": {
        "id": "vhqld0_kZEyZ"
      },
      "execution_count": null,
      "outputs": []
    },
    {
      "cell_type": "code",
      "source": [
        "null_region_df = df_noc[df_noc['region'].isnull()]\n",
        "null_region_df"
      ],
      "metadata": {
        "id": "zFWWaurAcHi3"
      },
      "execution_count": null,
      "outputs": []
    },
    {
      "cell_type": "code",
      "source": [
        "df_noc.loc[df_noc['region'].isnull(), 'region'] = df_noc['notes']"
      ],
      "metadata": {
        "id": "Xphp6lgqclP2"
      },
      "execution_count": null,
      "outputs": []
    },
    {
      "cell_type": "code",
      "source": [
        "# Adicionar os NOCs ausentes\n",
        "novos_dados = pd.DataFrame({'NOC': ['SGP'], 'region': ['Singapore']})\n",
        "\n",
        "# Concatena o novo dataframe ao dataframe original df_noc\n",
        "df_noc = pd.concat([df_noc, novos_dados], ignore_index=True)"
      ],
      "metadata": {
        "id": "Vt51ylpc3TaN"
      },
      "execution_count": null,
      "outputs": []
    },
    {
      "cell_type": "markdown",
      "source": [
        "### 3.3 - Divisão de medalhas\n",
        "\n",
        "Separação da coluna Medal, em três colunas representando a contagem de medalhas de Ouro, Prata e Bronze."
      ],
      "metadata": {
        "id": "T2i7ReL2d-nT"
      }
    },
    {
      "cell_type": "code",
      "source": [
        "df = pd.get_dummies(df, columns=['Medal'], prefix='Medal', dtype=int)"
      ],
      "metadata": {
        "id": "UvAW_jhYdcpr"
      },
      "execution_count": null,
      "outputs": []
    },
    {
      "cell_type": "markdown",
      "source": [
        "### 3.4 - Verificação de Time / Solo\n",
        "\n",
        "Como essa análise é por atleta, eu tenho que levar em consideração quais esportes são individuais e quais são em time, já que por exemplo, em um time de futebol eu teria 22 medalhas.\n",
        "\n",
        "Primeiramente cogitei fazer uma agregação por 'Team', 'NOC', 'Year', 'Season', 'City', 'Sport', 'Event','Medal_Bronze','Medal_Silver','Medal_Gold', porém há esportes que são individuais e possui diversos atletas do mesmo país.\n",
        "\n",
        "Com isso foi criado um banco de palavras chaves que definem se o esporte é em grupo (Team), e os que não se encaixam serão do tipo individual(Solo).\n",
        "\n",
        "Com as verificações que fiz com os dados oficiais das olimpíadas, fui capaz de gerar dados muito próximos dos reais, com algumas diferenças devido a medalhas que foram removidas posteriormente (como em casos de doping) e que esses dados não contemplam.\n"
      ],
      "metadata": {
        "id": "74Ti2s43cQRh"
      }
    },
    {
      "cell_type": "code",
      "source": [
        "# Gera a lista de eventos únicos\n",
        "events = df['Event'].unique().tolist()\n",
        "events"
      ],
      "metadata": {
        "id": "X4rIzvmocdOI"
      },
      "execution_count": null,
      "outputs": []
    },
    {
      "cell_type": "code",
      "source": [
        "# criar expressão regular para identificar eventos em time\n",
        "palavras_chaves = r'\\b(Relay|Team|Double|Pair|Mixed|Four|Eight|Coxed|Coxless|Synchronized|Doubles|Fours|Eights|Quadruple|Quad|Sculls|Pursuit|Keirin|Madison|Sprint|Omnium|Time Trial|Road Race|Criterium|Points Race|Elimination Race|Scratch Race|Handball|Volleyball|Basketball|Football|Hockey|Rugby|Water Polo|Ice Hockey|Beach Volleyball|Handball|Two|Group|Skiff|Curling)\\b'\n",
        "\n",
        "# adicionar coluna Event_Type ao dataframe\n",
        "df['Event_Type'] = 'Solo'\n",
        "\n",
        "# preencher coluna Event_Type com \"Team\" para eventos em time\n",
        "df.loc[df['Event'].str.contains(palavras_chaves, na=False), 'Event_Type'] = 'Team'\n"
      ],
      "metadata": {
        "id": "xKbNw8vjdGGC"
      },
      "execution_count": null,
      "outputs": []
    },
    {
      "cell_type": "markdown",
      "source": [
        "### 3.5 - Verificação de quadro de medalhas\n",
        "\n",
        "Agora que somos capazes de tratar a informações de Time / Solo, somos capazes de gerar um quadro de medalhas.\n",
        "<br>Gerei o de 2016 apenas para conferência com os dados oficiais.\n",
        "<br>Podemos verificar que está bem próximo dos dados oficiais, tendo pequenas variações, muitas delas causadas por dopping."
      ],
      "metadata": {
        "id": "AUidZNMfKTXp"
      }
    },
    {
      "cell_type": "code",
      "source": [
        "df_2016 = df[df['Year'] == 2016].copy()\n",
        "\n",
        "# Tratamento para eventos individuais e em equipe\n",
        "df_2016['Medal_Count'] = np.where(df_2016['Event_Type'] == 'Solo', 1,\n",
        "                                       1 / df_2016.groupby(['NOC', 'Year', 'Sport', 'Event', 'Medal_Gold'])['ID'].transform('count'))\n",
        "\n",
        "# Agrupando por NOC e somando as medalhas\n",
        "medal_counts = df_2016.groupby('NOC').agg({\n",
        "    'Medal_Count': 'sum',\n",
        "    'Medal_Gold': lambda x: (x * df_2016.loc[x.index, 'Medal_Count']).sum(),\n",
        "    'Medal_Silver': lambda x: (x * df_2016.loc[x.index, 'Medal_Count']).sum(),\n",
        "    'Medal_Bronze': lambda x: (x * df_2016.loc[x.index, 'Medal_Count']).sum()\n",
        "}).reset_index()\n",
        "\n",
        "# Arredondando os valores para inteiros\n",
        "for col in ['Medal_Gold', 'Medal_Silver', 'Medal_Bronze']:\n",
        "    medal_counts[col] = medal_counts[col].round(0).astype(int)\n",
        "\n",
        "# Calculando o total de medalhas\n",
        "medal_counts['Total'] = medal_counts['Medal_Gold'] + medal_counts['Medal_Silver'] + medal_counts['Medal_Bronze']\n",
        "\n",
        "# Ordenando por medalhas de ouro e pegando os top 15\n",
        "medal_counts = medal_counts.sort_values('Medal_Gold', ascending=False).head(15)\n",
        "\n",
        "# Criando o gráfico\n",
        "fig, ax = plt.subplots(figsize=(12, 8))\n",
        "\n",
        "# Plotando as barras na nova ordem: ouro > prata > bronze\n",
        "ax.barh(medal_counts['NOC'], medal_counts['Medal_Gold'], label='Ouro', color='#f0c05a')\n",
        "ax.barh(medal_counts['NOC'], medal_counts['Medal_Silver'], left=medal_counts['Medal_Gold'], label='Prata', color='Lightgray')\n",
        "ax.barh(medal_counts['NOC'], medal_counts['Medal_Bronze'],\n",
        "        left=medal_counts['Medal_Gold'] + medal_counts['Medal_Silver'], label='Bronze', color='#a97142')\n",
        "\n",
        "# Adicionando os números dentro das barras\n",
        "for i, country in enumerate(medal_counts['NOC']):\n",
        "    gold = medal_counts.loc[medal_counts['NOC'] == country, 'Medal_Gold'].values[0]\n",
        "    silver = medal_counts.loc[medal_counts['NOC'] == country, 'Medal_Silver'].values[0]\n",
        "    bronze = medal_counts.loc[medal_counts['NOC'] == country, 'Medal_Bronze'].values[0]\n",
        "    total = medal_counts.loc[medal_counts['NOC'] == country, 'Total'].values[0]\n",
        "\n",
        "    # Ouro\n",
        "    ax.text(gold/2, i, str(gold), va='center', ha='center', color='black')\n",
        "    # Prata\n",
        "    ax.text(gold + silver/2, i, str(silver), va='center', ha='center', color='black')\n",
        "    # Bronze\n",
        "    ax.text(gold + silver + bronze/2, i, str(bronze), va='center', ha='center', color='black')\n",
        "    # Total\n",
        "    ax.text(total, i, f' {total}', va='center', ha='left')\n",
        "\n",
        "# Customizando o gráfico\n",
        "ax.set_title('Medalhas por país - Rio 2016 - Top 15')\n",
        "ax.set_xlabel('Medalhas')\n",
        "ax.set_ylabel('País')\n",
        "ax.legend(loc='lower right')\n",
        "\n",
        "# Invertendo o eixo y para que o país com mais medalhas fique no topo\n",
        "ax.invert_yaxis()\n",
        "\n",
        "# Adicionando uma grade\n",
        "ax.grid(axis='x', linestyle='--', alpha=0.7)\n",
        "\n",
        "# Removendo as bordas do topo e da direita\n",
        "ax.spines['top'].set_visible(False)\n",
        "ax.spines['right'].set_visible(False)\n",
        "\n",
        "plt.tight_layout()\n",
        "plt.show()"
      ],
      "metadata": {
        "id": "l3YBdaEPH_Mo"
      },
      "execution_count": null,
      "outputs": []
    },
    {
      "cell_type": "markdown",
      "source": [
        "### 3.6 - Join dos dois arquivos\n",
        "\n",
        "Como o arquivo df_noc ficou com pouco conteúdo, resolvi fazer o join dois dois para facilitar o entendimento."
      ],
      "metadata": {
        "id": "hvKuYtxVfgIL"
      }
    },
    {
      "cell_type": "code",
      "source": [
        "df = df.merge(df_noc, left_on='NOC', right_on='NOC', how='inner')\n",
        "df = df.merge(df_noc, left_on='NOC_Sede', right_on='NOC', how='inner')"
      ],
      "metadata": {
        "id": "z9XYWsomfxyP"
      },
      "execution_count": null,
      "outputs": []
    },
    {
      "cell_type": "markdown",
      "source": [
        "### 3.7 - Seleção das colunas que serão utilizadas\n",
        "\n",
        "Passar a lista de colunas que queremos utilizar para análise."
      ],
      "metadata": {
        "id": "TC_FjXkHfXMQ"
      }
    },
    {
      "cell_type": "code",
      "source": [
        "df_list = ['ID', 'Name', 'Sex', 'Age','Height','Weight','NOC_x','region_x','Year','Season','City','NOC_y','region_y','Sport','Event','Event_Type','Medal_Bronze','Medal_Silver','Medal_Gold']\n",
        "df = df[df_list]"
      ],
      "metadata": {
        "id": "5fTQFZM2fWsc"
      },
      "execution_count": null,
      "outputs": []
    },
    {
      "cell_type": "markdown",
      "source": [
        "### 3.8 - Renomear colunas\n",
        "\n",
        "Trazer os nomes para portugues"
      ],
      "metadata": {
        "id": "NZrzoniFhLK0"
      }
    },
    {
      "cell_type": "code",
      "source": [
        "df_map = {'ID': 'id',\n",
        "                  'Name': 'nome',\n",
        "                  'Sex': 'sexo',\n",
        "                  'Age': 'idade',\n",
        "                  'Height': 'altura',\n",
        "                  'Weight': 'peso',\n",
        "                  'NOC_x': 'con',\n",
        "                  'region_x': 'pais',\n",
        "                  'Year': 'ano',\n",
        "                  'Season': 'temporada',\n",
        "                  'City': 'cidade_sede',\n",
        "                  'NOC_y': 'con_sede',\n",
        "                  'region_y': 'pais_sede',\n",
        "                  'Sport': 'esporte',\n",
        "                  'Event': 'esporte_detalhe',\n",
        "                  'Event_Type': 'esporte_tipo',\n",
        "                  'Medal_Bronze': 'bronze',\n",
        "                  'Medal_Silver': 'prata',\n",
        "                  'Medal_Gold': 'ouro'}\n",
        "\n",
        "df= df.rename(columns=df_map)\n",
        "df"
      ],
      "metadata": {
        "id": "U8WTAG-7lIBm"
      },
      "execution_count": null,
      "outputs": []
    },
    {
      "cell_type": "code",
      "source": [
        "df.info()"
      ],
      "metadata": {
        "id": "lbJGjudA1JP4"
      },
      "execution_count": null,
      "outputs": []
    },
    {
      "cell_type": "markdown",
      "source": [
        "# 4 - Catálogo de dados\n",
        "\n",
        "**Nome do conjunto de dados**: Olimpíadas\n",
        "\n",
        "**Descrição**: Este conjunto de dados contém informações sobre os atletas que ganharam medalhas nas Olimpíadas de Verão e Inverno, incluindo o nome do atleta, sexo, idade, altura, peso, comitê olímpico nacional (CON), ano, temporada, cidade sede, esporte, detalhes do esporte, medalha de bronze, medalha de prata e medalha de ouro.\n",
        "\n",
        "Colunas de df:\n",
        "\n",
        "* **id**: Identificador único do atleta.\n",
        "<br>Tipo: Inteiro\n",
        "<br>Característica: Não deve ser nulo e deve ser único\n",
        "\n",
        "* **nome**: Nome completo do atleta.\n",
        "<br>Tipo: Texto\n",
        "<br>Característica: Não deve ser nulo\n",
        "\n",
        "* **sexo**: Sexo do atleta M ou F (Masculino ou Feminino).\n",
        "<br>Tipo: Texto\n",
        "<br>Característica: Não deve ser nulo\n",
        "\n",
        "* **idade**: Idade do atleta em anos.\n",
        "<br>Tipo: Inteiro\n",
        "<br>Característica: Pode ser nulo\n",
        "\n",
        "* **altura**: Altura do atleta em centímetros.\n",
        "<br>Tipo: Float\n",
        "<br>Característica: Pode ser nulo\n",
        "\n",
        "* **peso**: Peso do atleta em quilogramas.\n",
        "<br>Tipo: Float\n",
        "<br>Característica: Pode ser nulo\n",
        "\n",
        "* **con**: Código de três letras do Comitê Olímpico Nacional do atleta.\n",
        "<br>Tipo: Texto\n",
        "<br>Característica: Não deve ser nulo e deve ser único\n",
        "\n",
        "* **pais**: Nome do país pelo qual o atleta está competindo.\n",
        "<br>Tipo: Texto\n",
        "<br>Característica: Não deve ser nulo\n",
        "\n",
        "* **ano**: Ano dos Jogos Olímpicos.\n",
        "<br>Tipo: Inteiro\n",
        "<br>Característica: Não deve ser nulo\n",
        "\n",
        "* **temporada**: Temporada dos Jogos Olímpicos Verão ou Inverno (Summer ou Winter).\n",
        "<br>Tipo: Texto\n",
        "<br>Característica: Não deve ser nulo\n",
        "\n",
        "* **cidade_sede**: Cidade sede dos Jogos Olímpicos.\n",
        "<br>Tipo: Texto\n",
        "<br>Característica: Não deve ser nulo\n",
        "\n",
        "* **con_sede**: Código de três letras do Comitê Olímpico Nacional do atleta do país sede.\n",
        "<br>Tipo: Texto\n",
        "<br>Característica: Não deve ser nulo e deve ser único\n",
        "\n",
        "* **pais_sede**: Nome do país sede.\n",
        "<br>Tipo: Texto\n",
        "<br>Característica: Não deve ser nulo\n",
        "\n",
        "* **esporte**: Esporte praticado pelo atleta.\n",
        "<br>Tipo: Texto\n",
        "<br>Característica: Não deve ser nulo\n",
        "\n",
        "* **esporte_detalhe**: Detalhes do evento do esporte praticado pelo atleta.\n",
        "<br>Tipo: Texto\n",
        "<br>Característica: Pode ser nulo\n",
        "\n",
        "* **esporte_tipo**: Descreve se o esporte é individual ou em time (Solo ou Team).\n",
        "<br>Tipo: Texto\n",
        "<br>Característica: Não deve ser nulo\n",
        "\n",
        "* **bronze**: Número de medalhas de bronze conquistadas pelo atleta.\n",
        "<br>Tipo: Inteiro\n",
        "<br>Característica: Não deve ser negativo\n",
        "\n",
        "* **prata**: Número de medalhas de prata conquistadas pelo atleta.\n",
        "<br>Tipo: Inteiro\n",
        "<br>Característica: Não deve ser negativo\n",
        "\n",
        "* **ouro**: Número de medalhas de ouro conquistadas pelo atleta.\n",
        "<br>Tipo: Inteiro\n",
        "<br>Característica: Não deve ser negativo"
      ],
      "metadata": {
        "id": "UeAFDGqZl3fd"
      }
    },
    {
      "cell_type": "markdown",
      "source": [
        "# 5 - Análise com dados tratados"
      ],
      "metadata": {
        "id": "ltDgc6R3YVGg"
      }
    },
    {
      "cell_type": "markdown",
      "source": [
        "### 5.1 - Ser o país sede das olimpíadas, faz com que a performance seja melhor?\n",
        "\n",
        "Nesta análise, irei calcular a média de medalhas (ouro, prata e bronze) conquistadas pelos países quando sediaram as Olimpíadas e comparar com a média de medalhas conquistadas nas edições em que não foram sedes. A partir disso, pretendo verificar se há uma melhora significativa na performance dos países quando sediaram as Olimpíadas.\n"
      ],
      "metadata": {
        "id": "jYk9rfyPe-vN"
      }
    },
    {
      "cell_type": "markdown",
      "source": [
        "#### 5.1.1 - Verificação"
      ],
      "metadata": {
        "id": "-lwugqsXE83k"
      }
    },
    {
      "cell_type": "code",
      "source": [
        "# Conectar ao banco de dados SQLite em memória\n",
        "engine = create_engine('sqlite:///:memory:')\n",
        "\n",
        "# Carregar o DataFrame para o banco de dados SQLite\n",
        "df.to_sql('olimpiadas', engine, index=False, if_exists='replace')"
      ],
      "metadata": {
        "id": "V3MOymtXHbe3"
      },
      "execution_count": null,
      "outputs": []
    },
    {
      "cell_type": "code",
      "source": [
        "query_medalhas = \"\"\"\n",
        "WITH medalhas_por_pais_e_edicao AS (\n",
        "    SELECT ano, con, pais,\n",
        "           CASE WHEN con = con_sede THEN 1 ELSE 0 END AS foi_sede,\n",
        "           ROUND(SUM(CASE WHEN esporte_tipo = 'Solo' THEN bronze ELSE (bronze / 1) END)) AS bronze,\n",
        "           ROUND(SUM(CASE WHEN esporte_tipo = 'Solo' THEN prata ELSE (prata / 1) END)) AS prata,\n",
        "           ROUND(SUM(CASE WHEN esporte_tipo = 'Solo' THEN ouro ELSE (ouro / 1) END)) AS ouro\n",
        "    FROM olimpiadas\n",
        "    GROUP BY ano, con, pais, con_sede\n",
        "),\n",
        "participacoes_por_pais AS (\n",
        "    SELECT\n",
        "           pais,\n",
        "           COUNT(DISTINCT ano) AS num_participacoes,\n",
        "           COUNT(DISTINCT CASE WHEN con = con_sede THEN ano END) AS qtd_vezes_sede,\n",
        "           COUNT(DISTINCT CASE WHEN con <> con_sede THEN ano END) AS qtd_vezes_nao_sede,\n",
        "           SUM(CASE WHEN con = con_sede THEN 1 ELSE 0 END) AS qtd_atletas_sede,\n",
        "           SUM(CASE WHEN con <> con_sede THEN 1 ELSE 0 END) AS qtd_atletas_nao_sede\n",
        "    FROM olimpiadas\n",
        "    GROUP BY pais\n",
        ")\n",
        "SELECT mpe.con, mpe.pais,\n",
        "       total_medalhas_sede, total_medalhas_nao_sede,\n",
        "       qtd_vezes_sede, qtd_vezes_nao_sede,\n",
        "       ROUND((total_medalhas_sede / NULLIF(qtd_vezes_sede, 0)), 2) AS media_sede,\n",
        "       ROUND((total_medalhas_nao_sede / NULLIF(qtd_vezes_nao_sede, 0)), 2) AS media_nao_sede,\n",
        "       ROUND(((total_medalhas_sede / NULLIF(qtd_vezes_sede, 0)) / (total_medalhas_nao_sede / NULLIF(qtd_vezes_nao_sede, 0))) * 100, 2) - 100 AS percentual_performance\n",
        "FROM (\n",
        "    SELECT con, pais, SUM(bronze + prata + ouro) AS total_medalhas_sede\n",
        "    FROM medalhas_por_pais_e_edicao\n",
        "    WHERE foi_sede = 1\n",
        "    GROUP BY con, pais\n",
        ") AS mpe\n",
        "JOIN (\n",
        "    SELECT con, pais, SUM(bronze + prata + ouro) AS total_medalhas_nao_sede\n",
        "    FROM medalhas_por_pais_e_edicao\n",
        "    WHERE foi_sede = 0\n",
        "    GROUP BY con, pais\n",
        ") AS mpe2 ON mpe.con = mpe2.con\n",
        "JOIN participacoes_por_pais ppp ON mpe.pais = ppp.pais\n",
        "ORDER BY percentual_performance DESC\n",
        "\"\"\"\n",
        "\n",
        "# Executar a consulta e carregar o resultado em um DataFrame\n",
        "with engine.connect() as conn:\n",
        "    result = pd.read_sql(query_medalhas, conn)\n",
        "\n",
        "# Mostrar o resultado\n",
        "result.head(30)"
      ],
      "metadata": {
        "id": "nSP3dMmnihB3"
      },
      "execution_count": null,
      "outputs": []
    },
    {
      "cell_type": "code",
      "source": [
        "# Ordenar o DataFrame pela media_nao_sede em ordem decrescente\n",
        "result_sorted = result.sort_values('media_nao_sede', ascending=True)\n",
        "\n",
        "# Configurar o estilo do plot\n",
        "plt.style.use('seaborn')\n",
        "background_color = '#f0f0f0'\n",
        "\n",
        "# Criar a figura e os eixos\n",
        "fig, ax = plt.subplots(1, 1, figsize=(12, 10), facecolor=background_color)\n",
        "\n",
        "# Adicionar linhas horizontais mais escuras\n",
        "ax.hlines(y=range(1, len(result_sorted) + 1), xmin=0, xmax=max(result_sorted['media_sede'].max(), result_sorted['media_nao_sede'].max()),\n",
        "          color='gray', alpha=0.3, linewidth=0.5, zorder=1)\n",
        "\n",
        "# Plotar os dados\n",
        "for i, (index, row) in enumerate(result_sorted.iterrows(), 1):\n",
        "    # Média não sede\n",
        "    ax.scatter(row['media_nao_sede'], i, color='#244747', s=50, zorder=3)\n",
        "    # Média sede\n",
        "    ax.scatter(row['media_sede'], i, color='#B73832', ec='black', linewidth=1, s=75, zorder=4)\n",
        "\n",
        "# Configurar os eixos\n",
        "ax.set_yticks(range(1, len(result_sorted) + 1))\n",
        "ax.set_yticklabels(result_sorted['pais'], fontdict={'horizontalalignment': 'right'}, alpha=0.7)\n",
        "ax.tick_params(axis='both', which='both', length=0)\n",
        "ax.set_xlabel(\"Média de Medalhas\", fontfamily='monospace', loc='left', color='gray')\n",
        "ax.set_facecolor(background_color)\n",
        "\n",
        "# Remover as bordas do gráfico\n",
        "for s in ['top', 'right', 'bottom', 'left']:\n",
        "    ax.spines[s].set_visible(False)\n",
        "\n",
        "# Adicionar título e legendas\n",
        "plt.title('Média de Medalhas Olímpicas por País: Foi Sede vs. Não Foi Sede', fontsize=15, fontweight='bold', fontfamily='serif', color='#323232', pad=20)\n",
        "\n",
        "# Adicionar legenda\n",
        "legend_elements = [\n",
        "    plt.Line2D([0], [0], marker='o', color='w', label='Foi Sede', markerfacecolor='#B73832', markersize=10),\n",
        "    plt.Line2D([0], [0], marker='o', color='w', label='Não Foi Sede', markerfacecolor='#244747', markersize=10)\n",
        "]\n",
        "ax.legend(handles=legend_elements, loc='upper right', bbox_to_anchor=(1, 1.15), ncol=2)\n",
        "\n",
        "plt.tight_layout()\n",
        "plt.show()"
      ],
      "metadata": {
        "id": "zRrXYDqOIgWN"
      },
      "execution_count": null,
      "outputs": []
    },
    {
      "cell_type": "markdown",
      "source": [
        "#### 5.1.2 - Conclusão\n",
        "\n",
        "**Explicação dos dados**\n",
        "\n",
        "* con e pais: mostram os dados dos países que já sediaram as Olimpíadas pelo menos uma vez na história.\n",
        "* total_medalhas_sede e total_medalhas_nao_sede: mostram a soma total de medalhas (ouro, prata e bronze) conquistadas por cada país nas edições em que foi sede e nas edições em que não foi sede, respectivamente.\n",
        "* qtd_vezes_sede e qtd_vezes_nao_sede: mostram a quantidade de vezes que cada país sediou as Olimpíadas e a quantidade de vezes que participou sem ser o país sede, respectivamente.\n",
        "* media_sede e media_nao_sede: mostram a média de medalhas conquistadas por cada país das vezes em que foi sede e que não foi sede, respectivamente.\n",
        "* percentual_performance: mostra a porcentagem de melhoria na performance de cada país nas edições em que foi sede em relação às edições em que não foi sede.\n",
        "\n",
        "**Conclusão**\n",
        "\n",
        "A análise dos dados mostra que há uma melhora significativa na performance dos países quando sediaram as Olimpíadas. No entanto, acredito que isso não seja apenas pelo fato de \"estarem jogando em casa\". Pesquisas indicam que os países sede ganham um número relativamente maior de vagas para as competições, aumentando assim suas chances de conquistar medalhas."
      ],
      "metadata": {
        "id": "1WAtKTvjf2es"
      }
    },
    {
      "cell_type": "markdown",
      "source": [
        "### 5.2 - O número de participações femininas vem crescendo ao longo da história das Olímpiadas?\n",
        "\n",
        "Nesta análise, considerarei apenas os dados referentes às Olimpíadas de Verão, uma vez que a quantidade de atletas nas Olimpíadas de Inverno é significativamente menor e dificultaria a análise. Ao focar apenas nas Olimpíadas de Verão, é possível obter uma visão mais clara e precisa da evolução da participação de homens e mulheres ao longo das edições."
      ],
      "metadata": {
        "id": "_aFP7TzdvJl0"
      }
    },
    {
      "cell_type": "markdown",
      "source": [
        "#### 5.2.1 - Query 1"
      ],
      "metadata": {
        "id": "8MgNN7EiFUjl"
      }
    },
    {
      "cell_type": "code",
      "source": [
        "# Define a consulta SQL\n",
        "query = \"\"\"SELECT ano,\n",
        "       con_sede,\n",
        "       pais_sede,\n",
        "       COUNT(id) AS qtd_mulheres,\n",
        "       ROUND((cast(COUNT(id) as float) - LAG(COUNT(id)) OVER (ORDER BY ano)) / LAG(COUNT(id)) OVER (ORDER BY ano) * 100, 2)  AS percentual_mudanca,\n",
        "       ROUND((cast(COUNT(id) as float) - FIRST_VALUE(COUNT(id)) OVER (ORDER BY ano)) / FIRST_VALUE(COUNT(id)) OVER (ORDER BY ano) * 100, 2) AS percentual_em_relacao_ao_primeiro\n",
        "FROM Olimpiadas\n",
        "WHERE sexo = 'F'\n",
        "  AND temporada = 'Summer'\n",
        "GROUP BY ano, con_sede, pais_sede\n",
        "ORDER BY ano;\n",
        "\"\"\"\n",
        "\n",
        "# Executar a consulta e carregar o resultado em um DataFrame\n",
        "with engine.connect() as conn:\n",
        "    result = pd.read_sql(query, conn)\n",
        "\n",
        "# Mostrar o resultado\n",
        "result.head(30)"
      ],
      "metadata": {
        "id": "N-IAsgwY__kc"
      },
      "execution_count": null,
      "outputs": []
    },
    {
      "cell_type": "markdown",
      "source": [
        "#### 5.2.2 - Gráfico 1"
      ],
      "metadata": {
        "id": "tg8g8ad8FZTE"
      }
    },
    {
      "source": [
        "result.plot(kind='scatter', x='ano', y='qtd_mulheres', s=32, alpha=0.8)\n",
        "plt.gca().spines[['top', 'right']].set_visible(False)\n",
        "plt.title('Quantidade de Mulheres Participantes ao Longo dos Anos (Olimpíadas de Verão)')\n",
        "plt.xlabel('Ano')\n",
        "plt.ylabel('Quantidade de Mulheres')\n",
        "plt.show()"
      ],
      "cell_type": "code",
      "execution_count": null,
      "outputs": [],
      "metadata": {
        "id": "Gum4abHCARY7"
      }
    },
    {
      "cell_type": "markdown",
      "source": [
        "#### 5.2.3 - Query 2"
      ],
      "metadata": {
        "id": "3zJFJr5wFb0k"
      }
    },
    {
      "cell_type": "code",
      "source": [
        "# Define a consulta SQL\n",
        "query = \"\"\"SELECT ano,\n",
        "       con_sede,\n",
        "       pais_sede,\n",
        "       COUNT(id) AS qtd_homens,\n",
        "       ROUND((cast(COUNT(id) as float) - LAG(COUNT(id)) OVER (ORDER BY ano)) / LAG(COUNT(id)) OVER (ORDER BY ano) * 100, 2)  AS percentual_mudanca,\n",
        "       ROUND((cast(COUNT(id) as float) - FIRST_VALUE(COUNT(id)) OVER (ORDER BY ano)) / FIRST_VALUE(COUNT(id)) OVER (ORDER BY ano) * 100, 2) AS percentual_em_relacao_ao_primeiro\n",
        "FROM Olimpiadas\n",
        "WHERE sexo = 'M'\n",
        "  AND temporada = 'Summer'\n",
        "GROUP BY ano, con_sede, pais_sede\n",
        "ORDER BY ano;\n",
        "\"\"\"\n",
        "\n",
        "# Executar a consulta e carregar o resultado em um DataFrame\n",
        "with engine.connect() as conn:\n",
        "    result = pd.read_sql(query, conn)\n",
        "\n",
        "# Mostrar o resultado\n",
        "result.head(30)"
      ],
      "metadata": {
        "id": "hQc_nOBXAo-f"
      },
      "execution_count": null,
      "outputs": []
    },
    {
      "cell_type": "markdown",
      "source": [
        "#### 5.2.4 - Gráfico 2"
      ],
      "metadata": {
        "id": "bzyW2NhKFeii"
      }
    },
    {
      "source": [
        "result.plot(kind='scatter', x='ano', y='qtd_homens', s=32, alpha=0.8)\n",
        "plt.gca().spines[['top', 'right']].set_visible(False)\n",
        "plt.title('Quantidade de Homens Participantes ao Longo dos Anos (Olimpíadas de Verão)')\n",
        "plt.xlabel('Ano')\n",
        "plt.ylabel('Quantidade de Homens')\n",
        "plt.show()"
      ],
      "cell_type": "code",
      "execution_count": null,
      "outputs": [],
      "metadata": {
        "id": "43DThGU3A1-w"
      }
    },
    {
      "cell_type": "markdown",
      "source": [
        "#### 5.2.5 - Query 3"
      ],
      "metadata": {
        "id": "NF9HJb-nFmse"
      }
    },
    {
      "cell_type": "code",
      "source": [
        "# Define a consulta SQL\n",
        "query = \"\"\"WITH qtd_mulheres AS (\n",
        "  SELECT\n",
        "    fm.ano,\n",
        "    fm.con_sede,\n",
        "    fm.pais_sede,\n",
        "    COUNT(fm.id) AS qtd_mulheres\n",
        "  FROM Olimpiadas fm\n",
        "  WHERE fm.sexo = 'F'\n",
        "    AND fm.temporada = 'Summer'\n",
        "  GROUP BY fm.ano, fm.con_sede, fm.pais_sede\n",
        "),\n",
        "qtd_homens AS (\n",
        "  SELECT\n",
        "    fm.ano,\n",
        "    fm.con_sede,\n",
        "    fm.pais_sede,\n",
        "    COUNT(fm.id) AS qtd_homens\n",
        "  FROM Olimpiadas fm\n",
        "  WHERE fm.sexo = 'M'\n",
        "    AND fm.temporada = 'Summer'\n",
        "  GROUP BY fm.ano, fm.con_sede, fm.pais_sede\n",
        ")\n",
        "SELECT\n",
        "  COALESCE(qh.ano, qm.ano) AS ano,\n",
        "  COALESCE(qh.con_sede, qm.con_sede) AS con_sede,\n",
        "  COALESCE(qh.pais_sede, qm.pais_sede) AS pais_sede,\n",
        "  COALESCE(qm.qtd_mulheres, 0) AS qtd_mulheres,\n",
        "  COALESCE(qh.qtd_homens, 0) AS qtd_homens,\n",
        "  ROUND(COALESCE(cast(qm.qtd_mulheres as float), 0) / (COALESCE(qm.qtd_mulheres, 0) + COALESCE(qh.qtd_homens, 0)) * 100, 2) AS percentual_mulheres,\n",
        "  ROUND(COALESCE(cast(qh.qtd_homens as float), 0) / (COALESCE(qm.qtd_mulheres, 0) + COALESCE(qh.qtd_homens, 0)) * 100, 2) AS percentual_homens\n",
        "FROM qtd_homens qh\n",
        "left JOIN qtd_mulheres qm\n",
        "  ON qm.ano = qh.ano\n",
        "  AND qm.con_sede = qh.con_sede\n",
        "  AND qm.pais_sede = qh.pais_sede\n",
        "ORDER BY ano;\n",
        "\"\"\"\n",
        "\n",
        "# Executar a consulta e carregar o resultado em um DataFrame\n",
        "with engine.connect() as conn:\n",
        "    result = pd.read_sql(query, conn)\n",
        "\n",
        "# Mostrar o resultado\n",
        "result.head(30)"
      ],
      "metadata": {
        "id": "VvZXm2lSCjGk"
      },
      "execution_count": null,
      "outputs": []
    },
    {
      "cell_type": "markdown",
      "source": [
        "#### 5.2.6 - Gráfico 3"
      ],
      "metadata": {
        "id": "F4rTVCHRFjfo"
      }
    },
    {
      "cell_type": "code",
      "source": [
        "# Criar o gráfico de linhas com a percentagem de homens e mulheres\n",
        "plt.figure(figsize=(12, 6))  # Ajuste o tamanho da figura\n",
        "plt.plot(result['ano'], result['percentual_homens'], label='Homens', marker='o', linestyle='-')\n",
        "plt.plot(result['ano'], result['percentual_mulheres'], label='Mulheres', marker='o', linestyle='-')\n",
        "\n",
        "# Definir os rótulos dos eixos x e y\n",
        "plt.xlabel('Ano')\n",
        "plt.ylabel('Percentual (%)')\n",
        "\n",
        "# Definir o título do gráfico\n",
        "plt.title('Percentual de Homens e Mulheres nas Olimpíadas de Verão')\n",
        "\n",
        "# Adicionar uma legenda ao gráfico\n",
        "plt.legend()\n",
        "\n",
        "# Exibir o gráfico\n",
        "plt.grid()  # Adiciona uma grade ao gráfico para melhor visualização\n",
        "plt.xticks(result['ano'], rotation=45)  # Rotaciona os rótulos do eixo x, se necessário\n",
        "plt.tight_layout()  # Ajusta a disposição do gráfico\n",
        "plt.show()"
      ],
      "metadata": {
        "id": "5WTCDjdODStu"
      },
      "execution_count": null,
      "outputs": []
    },
    {
      "cell_type": "markdown",
      "source": [
        "#### 5.2.7 - Conclusão\n",
        "\n",
        "**Explicação dos dados**\n",
        "\n",
        "* Query 1 - Trago a evolução na quantidade de mulheres no decorrer das edições;\n",
        "* Gráfico 1 - Ilustro a evolução na quantidade de mulheres;\n",
        "* Query 2 - Trago a evolução na quantidade de homens no decorrer das edições;\n",
        "* Gráfico 2 - Ilustro a evolução na quantidade de homens;\n",
        "* Query 3 - Trago a porcentagem de homens e mulheres no decorrer das edições;\n",
        "* Gráfico 3 - Ilustro a evolução na porcentagem de homens e mulheres;\n",
        "\n",
        "**Conclusão**\n",
        "\n",
        "A participação das mulheres nos Jogos Olímpicos tem aumentado significativamente ao longo das edições. Isso fica muito evidente no gráfico 3, que mostra a evolução da participação de homens e mulheres nas Olimpíadas de Verão.\n",
        "\n",
        "Na primeira edição dos Jogos em 1896, a participação foi composta por 100% de homens. Nas primeiras 10 edições, a participação das mulheres não chegava a 10%. No entanto, a partir daí, a participação das mulheres começou a aumentar gradualmente.\n",
        "\n",
        "Em 2016, a participação das mulheres chegou a 45%, quase se igualando ao número de homens. Isso mostra que as mulheres têm ganhado cada vez mais espaço nos Jogos Olímpicos, em uma tendência que provavelmente continuará nas próximas edições."
      ],
      "metadata": {
        "id": "seFZ7-FyFvdn"
      }
    },
    {
      "cell_type": "markdown",
      "source": [
        "# 6 - Autoavaliação\n",
        "\n",
        "Em relação aos objetivos propostos, consegui criar uma estrutura atendendo os requisitos do projeto e consegui resolver as perguntas que foram propostas, o que me faz acreditar que atingi o que havia planejado inicialmente.\n",
        "\n",
        "No geral, estou satisfeito com os resultados obtidos e acredito que esse trabalho foi uma boa oportunidade para aprofundar meus conhecimentos em análise de dados e criação de visualizações."
      ],
      "metadata": {
        "id": "D4Ipc5Vq_z8J"
      }
    }
  ]
}